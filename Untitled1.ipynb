{
 "cells": [
  {
   "cell_type": "code",
   "execution_count": 1,
   "id": "6f893f42-4382-44b4-b238-a9d58d25b113",
   "metadata": {},
   "outputs": [],
   "source": [
    "import pandas as pd"
   ]
  },
  {
   "cell_type": "code",
   "execution_count": 2,
   "id": "5ad05086-1978-4b19-88f7-9f22d28a40b4",
   "metadata": {},
   "outputs": [],
   "source": [
    "data1=[4,8,15,16,23,42]"
   ]
  },
  {
   "cell_type": "code",
   "execution_count": 5,
   "id": "85a518c1-51bc-4fd9-8480-b20c2cbd76fe",
   "metadata": {},
   "outputs": [],
   "source": [
    "series1=pd.Series(data1)"
   ]
  },
  {
   "cell_type": "code",
   "execution_count": 6,
   "id": "97acbb28-cfdf-479c-a012-88523579048b",
   "metadata": {},
   "outputs": [
    {
     "data": {
      "text/plain": [
       "0     4\n",
       "1     8\n",
       "2    15\n",
       "3    16\n",
       "4    23\n",
       "5    42\n",
       "dtype: int64"
      ]
     },
     "execution_count": 6,
     "metadata": {},
     "output_type": "execute_result"
    }
   ],
   "source": [
    "series1"
   ]
  },
  {
   "cell_type": "code",
   "execution_count": 7,
   "id": "1feb325d-fba3-4b95-b164-e16a5df1331c",
   "metadata": {},
   "outputs": [
    {
     "name": "stdout",
     "output_type": "stream",
     "text": [
      "0     1\n",
      "1     2\n",
      "2     3\n",
      "3     4\n",
      "4     5\n",
      "5     6\n",
      "6     7\n",
      "7     8\n",
      "8     9\n",
      "9    10\n",
      "dtype: int64\n"
     ]
    }
   ],
   "source": [
    "import pandas as pd\n",
    "\n",
    "my_list = [1, 2, 3, 4, 5, 6, 7, 8, 9, 10]\n",
    "\n",
    "series = pd.Series(my_list)\n",
    "\n",
    "print(series)\n"
   ]
  },
  {
   "cell_type": "code",
   "execution_count": 9,
   "id": "285e4c69-d68e-4038-9fb2-9aa17dc5a9ed",
   "metadata": {},
   "outputs": [],
   "source": [
    "data2={\"Name\":[\"Alice\",\"Bob\",\"Claire\"],\n",
    "\"Age\":[\"25\",\"30\",\"27\"],\n",
    "\"Gender\":[\"Female\",\"Male\",\"Female\"]}"
   ]
  },
  {
   "cell_type": "code",
   "execution_count": 12,
   "id": "06d09f09-a3ce-4e58-8d8b-385b59b3a00d",
   "metadata": {},
   "outputs": [],
   "source": [
    "df=pd.DataFrame(data2)"
   ]
  },
  {
   "cell_type": "code",
   "execution_count": 13,
   "id": "1d1d8b32-d1bb-4dab-b2ec-6673b0c7d5d1",
   "metadata": {},
   "outputs": [
    {
     "data": {
      "text/html": [
       "<div>\n",
       "<style scoped>\n",
       "    .dataframe tbody tr th:only-of-type {\n",
       "        vertical-align: middle;\n",
       "    }\n",
       "\n",
       "    .dataframe tbody tr th {\n",
       "        vertical-align: top;\n",
       "    }\n",
       "\n",
       "    .dataframe thead th {\n",
       "        text-align: right;\n",
       "    }\n",
       "</style>\n",
       "<table border=\"1\" class=\"dataframe\">\n",
       "  <thead>\n",
       "    <tr style=\"text-align: right;\">\n",
       "      <th></th>\n",
       "      <th>Name</th>\n",
       "      <th>Age</th>\n",
       "      <th>Gender</th>\n",
       "    </tr>\n",
       "  </thead>\n",
       "  <tbody>\n",
       "    <tr>\n",
       "      <th>0</th>\n",
       "      <td>Alice</td>\n",
       "      <td>25</td>\n",
       "      <td>Female</td>\n",
       "    </tr>\n",
       "    <tr>\n",
       "      <th>1</th>\n",
       "      <td>Bob</td>\n",
       "      <td>30</td>\n",
       "      <td>Male</td>\n",
       "    </tr>\n",
       "    <tr>\n",
       "      <th>2</th>\n",
       "      <td>Claire</td>\n",
       "      <td>27</td>\n",
       "      <td>Female</td>\n",
       "    </tr>\n",
       "  </tbody>\n",
       "</table>\n",
       "</div>"
      ],
      "text/plain": [
       "     Name Age  Gender\n",
       "0   Alice  25  Female\n",
       "1     Bob  30    Male\n",
       "2  Claire  27  Female"
      ]
     },
     "execution_count": 13,
     "metadata": {},
     "output_type": "execute_result"
    }
   ],
   "source": [
    "df"
   ]
  },
  {
   "cell_type": "code",
   "execution_count": null,
   "id": "da256c32-70b5-4c53-af51-5114f9c4adbe",
   "metadata": {},
   "outputs": [],
   "source": [
    "Q4. What is ‘DataFrame’ in pandas and how is it different from pandas.series? Explain with an example.\n",
    "\n",
    "answer:\n",
    "Q4. What is ‘DataFrame’ in pandas and how is it different from pandas.series? Explain with an example.\n",
    "ChatGPT\n",
    "In Pandas, a DataFrame is a two-dimensional, size-mutable, and heterogeneous tabular data structure with labeled axes (rows and columns). It can be thought of as a spreadsheet or SQL table, where data is stored in rows and columns. Each column in a DataFrame is a Pandas Series.\n",
    "\n",
    "On the other hand, a Pandas Series is a one-dimensional labeled array capable of holding data of any type (integer, float, string, etc.). It is similar to a one-column DataFrame but without column names, although it does have an index.\n",
    "\n",
    "Here's a breakdown of the differences between DataFrame and Series:\n",
    "\n",
    "Dimensionality:\n",
    "\n",
    "DataFrame: Two-dimensional (rows and columns).\n",
    "Series: One-dimensional (single column of data).\n",
    "Mutability:\n",
    "\n",
    "DataFrame: Size-mutable (can add or remove rows and columns).\n",
    "Series: Size-immutable (once created, the size cannot be changed).\n",
    "Heterogeneity:\n",
    "\n",
    "DataFrame: Can contain columns of different data types.\n",
    "Series: Contains data of a single data type.\n",
    "Labeling:\n",
    "\n",
    "DataFrame: Both rows and columns are labeled.\n",
    "Series: Only has one set of labels (the index).\n",
    "Methods and Attributes:\n",
    "\n",
    "DataFrame: Contains methods and attributes specific to two-dimensional data structures, such as df.head(), df.info(), and df.describe().\n",
    "Series: Contains methods and attributes specific to one-dimensional data structures, such as series.mean(), series.unique(), and series.value_counts()."
   ]
  }
 ],
 "metadata": {
  "kernelspec": {
   "display_name": "Python 3 (ipykernel)",
   "language": "python",
   "name": "python3"
  },
  "language_info": {
   "codemirror_mode": {
    "name": "ipython",
    "version": 3
   },
   "file_extension": ".py",
   "mimetype": "text/x-python",
   "name": "python",
   "nbconvert_exporter": "python",
   "pygments_lexer": "ipython3",
   "version": "3.11.7"
  }
 },
 "nbformat": 4,
 "nbformat_minor": 5
}
