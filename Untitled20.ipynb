{
 "cells": [
  {
   "cell_type": "code",
   "execution_count": null,
   "id": "bfa602ed-1f61-4d92-9bf0-2d6290a7c358",
   "metadata": {},
   "outputs": [],
   "source": [
    "Q1. Write a Python function that takes in two arrays of data and calculates the F-value for a variance ratio\n",
    "test. The function should return the F-value and the corresponding p-value for the test."
   ]
  },
  {
   "cell_type": "code",
   "execution_count": 4,
   "id": "7aeccd78-32e0-4a10-a98d-26c8d2d7e905",
   "metadata": {},
   "outputs": [
    {
     "name": "stdout",
     "output_type": "stream",
     "text": [
      "F-value: 0.7849462365591396\n",
      "p-value: 0.41007577996701566\n"
     ]
    }
   ],
   "source": [
    "from scipy.stats import f\n",
    "import numpy as np\n",
    "def variance_ratio_test(data1, data2):\n",
    "    \"\"\"\n",
    "    Calculate the F-value and p-value for a variance ratio test.\n",
    "    \n",
    "    Parameters:\n",
    "        data1 (array-like): First array of data.\n",
    "        data2 (array-like): Second array of data.\n",
    "    \n",
    "    Returns:\n",
    "        f_value (float): The calculated F-value.\n",
    "        p_value (float): The corresponding p-value.\n",
    "    \"\"\"\n",
    "    # Calculate the variances of the two datasets\n",
    "    var1 = np.var(data1, ddof=1)  # ddof=1 for sample variance\n",
    "    var2 = np.var(data2, ddof=1)\n",
    "    \n",
    "    # Calculate the F-value\n",
    "    f_value = var1 / var2\n",
    "    \n",
    "    # Calculate the degrees of freedom\n",
    "    df1 = len(data1) - 1\n",
    "    df2 = len(data2) - 1\n",
    "    \n",
    "    # Calculate the p-value\n",
    "    p_value = f.cdf(f_value, df1, df2)\n",
    "    \n",
    "    return f_value, p_value\n",
    "\n",
    "# Example usage:\n",
    "data1 = [23, 25, 26, 28, 30]\n",
    "data2 = [21, 24, 26, 27, 29]\n",
    "f_value, p_value = variance_ratio_test(data1, data2)\n",
    "print(\"F-value:\", f_value)\n",
    "print(\"p-value:\", p_value)\n"
   ]
  },
  {
   "cell_type": "code",
   "execution_count": null,
   "id": "0af04889-af01-45f5-b12f-ad75b4fce284",
   "metadata": {},
   "outputs": [],
   "source": [
    "Q2. Given a significance level of 0.05 and the degrees of freedom for the numerator and denominator of an\n",
    "F-distribution, write a Python function that returns the critical F-value for a two-tailed test."
   ]
  },
  {
   "cell_type": "code",
   "execution_count": 2,
   "id": "9a92c6af-5e27-48da-9fa5-47951ab10ae6",
   "metadata": {},
   "outputs": [
    {
     "name": "stdout",
     "output_type": "stream",
     "text": [
      "Critical F-value: 4.825621493405406\n"
     ]
    }
   ],
   "source": [
    "from scipy.stats import f\n",
    "\n",
    "def critical_f_value(alpha, dfn, dfd):\n",
    "    \"\"\"\n",
    "    Calculate the critical F-value for a two-tailed test given the significance level\n",
    "    and the degrees of freedom for the numerator and denominator of an F-distribution.\n",
    "    \n",
    "    Parameters:\n",
    "        alpha (float): Significance level.\n",
    "        dfn (int): Degrees of freedom for the numerator.\n",
    "        dfd (int): Degrees of freedom for the denominator.\n",
    "    \n",
    "    Returns:\n",
    "        f_crit (float): Critical F-value.\n",
    "    \"\"\"\n",
    "    # Calculate the critical F-value using the percent point function (ppf) of the F-distribution\n",
    "    f_crit = f.ppf(1 - alpha/2, dfn, dfd)\n",
    "    \n",
    "    return f_crit\n",
    "\n",
    "# Example usage:\n",
    "alpha = 0.05\n",
    "dfn = 3  # degrees of freedom for numerator\n",
    "dfd = 10  # degrees of freedom for denominator\n",
    "f_crit = critical_f_value(alpha, dfn, dfd)\n",
    "print(\"Critical F-value:\", f_crit)\n"
   ]
  },
  {
   "cell_type": "code",
   "execution_count": null,
   "id": "054e52be-774b-40f5-a2d3-858e9ff7c1d8",
   "metadata": {},
   "outputs": [],
   "source": [
    "Q3. Write a Python program that generates random samples from two normal distributions with known\n",
    "\n",
    "variances and uses an F-test to determine if the variances are equal. The program should output the F-\n",
    "value, degrees of freedom, and p-value for the test."
   ]
  },
  {
   "cell_type": "code",
   "execution_count": 5,
   "id": "3228a902-407a-4035-8d29-616e830f3b99",
   "metadata": {},
   "outputs": [
    {
     "name": "stdout",
     "output_type": "stream",
     "text": [
      "F-value: 1.6850029607063988\n",
      "Degrees of freedom (numerator): 49\n",
      "Degrees of freedom (denominator): 49\n",
      "p-value: 0.9646028738391654\n"
     ]
    }
   ],
   "source": [
    "import numpy as np\n",
    "from scipy.stats import f\n",
    "\n",
    "def f_test(data1, data2):\n",
    "    \"\"\"\n",
    "    Perform an F-test to compare the variances of two datasets.\n",
    "    \n",
    "    Parameters:\n",
    "        data1 (array-like): First dataset.\n",
    "        data2 (array-like): Second dataset.\n",
    "    \n",
    "    Returns:\n",
    "        f_value (float): The calculated F-value.\n",
    "        dfn (int): Degrees of freedom for the numerator.\n",
    "        dfd (int): Degrees of freedom for the denominator.\n",
    "        p_value (float): The corresponding p-value for the F-test.\n",
    "    \"\"\"\n",
    "    # Calculate variances\n",
    "    var1 = np.var(data1, ddof=1)  # ddof=1 for sample variance\n",
    "    var2 = np.var(data2, ddof=1)\n",
    "    \n",
    "    # Calculate degrees of freedom\n",
    "    n1 = len(data1)\n",
    "    n2 = len(data2)\n",
    "    dfn = n1 - 1\n",
    "    dfd = n2 - 1\n",
    "    \n",
    "    # Calculate F-value\n",
    "    f_value = var1 / var2 if var1 >= var2 else var2 / var1\n",
    "    \n",
    "    # Calculate p-value\n",
    "    p_value = f.cdf(f_value, dfn, dfd)\n",
    "    \n",
    "    return f_value, dfn, dfd, p_value\n",
    "\n",
    "# Generate random samples from two normal distributions with known variances\n",
    "np.random.seed(0)\n",
    "data1 = np.random.normal(loc=10, scale=2, size=50)\n",
    "data2 = np.random.normal(loc=10, scale=2, size=50)\n",
    "\n",
    "# Perform F-test\n",
    "f_value, dfn, dfd, p_value = f_test(data1, data2)\n",
    "\n",
    "# Output results\n",
    "print(\"F-value:\", f_value)\n",
    "print(\"Degrees of freedom (numerator):\", dfn)\n",
    "print(\"Degrees of freedom (denominator):\", dfd)\n",
    "print(\"p-value:\", p_value)\n"
   ]
  },
  {
   "cell_type": "code",
   "execution_count": null,
   "id": "cebfaed6-2375-465f-a836-e45a42c8b8d4",
   "metadata": {},
   "outputs": [],
   "source": [
    "Q4.The variances of two populations are known to be 10 and 15. A sample of 12 observations is taken from\n",
    "each population. Conduct an F-test at the 5% significance level to determine if the variances are\n",
    "significantly different."
   ]
  },
  {
   "cell_type": "code",
   "execution_count": 6,
   "id": "0bcd7e40-4423-408e-b84d-1550b3f66891",
   "metadata": {},
   "outputs": [
    {
     "name": "stdout",
     "output_type": "stream",
     "text": [
      "Fail to reject the null hypothesis. There is not enough evidence to conclude that the variances are significantly different.\n",
      "F-statistic: 1.5\n",
      "Critical value: 3.473699051085809\n"
     ]
    }
   ],
   "source": [
    "from scipy.stats import f\n",
    "\n",
    "# Given data\n",
    "variance_pop1 = 10\n",
    "variance_pop2 = 15\n",
    "alpha = 0.05\n",
    "dfn = 11  # degrees of freedom for the numerator\n",
    "dfd = 11  # degrees of freedom for the denominator\n",
    "\n",
    "# Calculate F-statistic\n",
    "f_statistic = variance_pop2 / variance_pop1\n",
    "\n",
    "# Calculate critical value\n",
    "critical_value = f.ppf(1 - alpha / 2, dfn, dfd)\n",
    "\n",
    "# Conduct F-test\n",
    "if f_statistic > critical_value:\n",
    "    print(\"Reject the null hypothesis. The variances are significantly different.\")\n",
    "else:\n",
    "    print(\"Fail to reject the null hypothesis. There is not enough evidence to conclude that the variances are significantly different.\")\n",
    "\n",
    "print(\"F-statistic:\", f_statistic)\n",
    "print(\"Critical value:\", critical_value)\n"
   ]
  },
  {
   "cell_type": "code",
   "execution_count": null,
   "id": "51e21264-c9c5-4538-8bb7-5eefc3b99e8a",
   "metadata": {},
   "outputs": [],
   "source": [
    "Q5. A manufacturer claims that the variance of the diameter of a certain product is 0.005. A sample of 25\n",
    "products is taken, and the sample variance is found to be 0.006. Conduct an F-test at the 1% significance\n",
    "level to determine if the claim is justified."
   ]
  },
  {
   "cell_type": "code",
   "execution_count": 7,
   "id": "87d3282a-b9a0-4ae0-97fc-6b5e782b92ab",
   "metadata": {},
   "outputs": [
    {
     "name": "stdout",
     "output_type": "stream",
     "text": [
      "Fail to reject the null hypothesis. The claim made by the manufacturer is justified.\n",
      "F-statistic: 1.2\n",
      "Critical value: 24939.565259943236\n"
     ]
    }
   ],
   "source": [
    "from scipy.stats import f\n",
    "\n",
    "# Given data\n",
    "claimed_variance = 0.005\n",
    "sample_variance = 0.006\n",
    "alpha = 0.01\n",
    "dfn = 24  # degrees of freedom for the numerator\n",
    "\n",
    "# Calculate F-statistic\n",
    "f_statistic = sample_variance / claimed_variance\n",
    "\n",
    "# Calculate critical value\n",
    "critical_value = f.ppf(1 - alpha / 2, dfn, dfd=1)  # dfd=1 since degrees of freedom for the denominator is not relevant\n",
    "\n",
    "# Conduct F-test\n",
    "if f_statistic > critical_value:\n",
    "    print(\"Reject the null hypothesis. The claim made by the manufacturer is not justified.\")\n",
    "else:\n",
    "    print(\"Fail to reject the null hypothesis. The claim made by the manufacturer is justified.\")\n",
    "\n",
    "print(\"F-statistic:\", f_statistic)\n",
    "print(\"Critical value:\", critical_value)\n"
   ]
  },
  {
   "cell_type": "code",
   "execution_count": null,
   "id": "19b71492-a042-4ac9-ae24-269b502848a8",
   "metadata": {},
   "outputs": [],
   "source": [
    "Q6. Write a Python function that takes in the degrees of freedom for the numerator and denominator of an\n",
    "F-distribution and calculates the mean and variance of the distribution. The function should return the\n",
    "mean and variance as a tuple."
   ]
  },
  {
   "cell_type": "code",
   "execution_count": 8,
   "id": "5de9177b-599d-4132-ae18-77de333d51a0",
   "metadata": {},
   "outputs": [
    {
     "name": "stdout",
     "output_type": "stream",
     "text": [
      "Mean: 1.25\n",
      "Variance: 1.9097222222222223\n"
     ]
    }
   ],
   "source": [
    "def f_distribution_mean_variance(dfn, dfd):\n",
    "    \"\"\"\n",
    "    Calculate the mean and variance of an F-distribution given the degrees of freedom for the numerator\n",
    "    and denominator.\n",
    "    \n",
    "    Parameters:\n",
    "        dfn (int): Degrees of freedom for the numerator.\n",
    "        dfd (int): Degrees of freedom for the denominator.\n",
    "    \n",
    "    Returns:\n",
    "        tuple: A tuple containing the mean and variance of the F-distribution.\n",
    "    \"\"\"\n",
    "    # Calculate mean\n",
    "    mean = dfd / (dfd - 2)\n",
    "    \n",
    "    # Calculate variance\n",
    "    variance = (2 * dfd ** 2 * (dfn + dfd - 2)) / (dfn * (dfd - 2) ** 2 * (dfd - 4))\n",
    "    \n",
    "    return mean, variance\n",
    "\n",
    "# Example usage:\n",
    "dfn = 3  # degrees of freedom for numerator\n",
    "dfd = 10  # degrees of freedom for denominator\n",
    "mean, variance = f_distribution_mean_variance(dfn, dfd)\n",
    "print(\"Mean:\", mean)\n",
    "print(\"Variance:\", variance)\n"
   ]
  },
  {
   "cell_type": "code",
   "execution_count": null,
   "id": "bee61aaf-9d50-4bc6-825c-6f49d6b210e9",
   "metadata": {},
   "outputs": [],
   "source": [
    "Q7. A random sample of 10 measurements is taken from a normal population with unknown variance. The\n",
    "sample variance is found to be 25. Another random sample of 15 measurements is taken from another\n",
    "normal population with unknown variance, and the sample variance is found to be 20. Conduct an F-test\n",
    "at the 10% significance level to determine if the variances are significantly different."
   ]
  },
  {
   "cell_type": "code",
   "execution_count": 9,
   "id": "04590cc4-3cb3-4625-a949-563a02df1810",
   "metadata": {},
   "outputs": [
    {
     "name": "stdout",
     "output_type": "stream",
     "text": [
      "Fail to reject the null hypothesis. There is not enough evidence to conclude that the variances are significantly different.\n",
      "F-statistic: 1.25\n",
      "Critical value: 2.6457907352338195\n"
     ]
    }
   ],
   "source": [
    "from scipy.stats import f\n",
    "\n",
    "# Given data\n",
    "sample_variance1 = 25\n",
    "sample_variance2 = 20\n",
    "alpha = 0.10\n",
    "dfn1 = 9  # degrees of freedom for sample 1 (n1 - 1)\n",
    "dfn2 = 14  # degrees of freedom for sample 2 (n2 - 1)\n",
    "\n",
    "# Calculate F-statistic\n",
    "f_statistic = sample_variance1 / sample_variance2\n",
    "\n",
    "# Calculate critical value\n",
    "critical_value = f.ppf(1 - alpha / 2, dfn1, dfn2)\n",
    "\n",
    "# Conduct F-test\n",
    "if f_statistic > critical_value:\n",
    "    print(\"Reject the null hypothesis. The variances are significantly different.\")\n",
    "else:\n",
    "    print(\"Fail to reject the null hypothesis. There is not enough evidence to conclude that the variances are significantly different.\")\n",
    "\n",
    "print(\"F-statistic:\", f_statistic)\n",
    "print(\"Critical value:\", critical_value)\n"
   ]
  },
  {
   "cell_type": "code",
   "execution_count": null,
   "id": "78b644bf-ef21-4b97-a1d2-e16b66a36565",
   "metadata": {},
   "outputs": [],
   "source": [
    "Q8. The following data represent the waiting times in minutes at two different restaurants on a Saturday\n",
    "night: Restaurant A: 24, 25, 28, 23, 22, 20, 27; Restaurant B: 31, 33, 35, 30, 32, 36. Conduct an F-test at the 5%\n",
    "significance level to determine if the variances are significantly different."
   ]
  },
  {
   "cell_type": "code",
   "execution_count": 10,
   "id": "349c440c-8ba5-4bc5-99c5-ec64925056ab",
   "metadata": {},
   "outputs": [
    {
     "name": "stdout",
     "output_type": "stream",
     "text": [
      "Fail to reject the null hypothesis. There is not enough evidence to conclude that the variances are significantly different.\n",
      "F-statistic: 1.4551907719609583\n",
      "Critical value: 6.977701858535566\n"
     ]
    }
   ],
   "source": [
    "from scipy.stats import f\n",
    "\n",
    "# Given data\n",
    "waiting_times_a = [24, 25, 28, 23, 22, 20, 27]\n",
    "waiting_times_b = [31, 33, 35, 30, 32, 36]\n",
    "alpha = 0.05\n",
    "dfn = len(waiting_times_a) - 1  # degrees of freedom for sample A\n",
    "dfd = len(waiting_times_b) - 1  # degrees of freedom for sample B\n",
    "\n",
    "# Calculate sample variances\n",
    "sample_variance_a = np.var(waiting_times_a, ddof=1)\n",
    "sample_variance_b = np.var(waiting_times_b, ddof=1)\n",
    "\n",
    "# Calculate F-statistic\n",
    "f_statistic = sample_variance_a / sample_variance_b\n",
    "\n",
    "# Calculate critical value\n",
    "critical_value = f.ppf(1 - alpha / 2, dfn, dfd)\n",
    "\n",
    "# Conduct F-test\n",
    "if f_statistic > critical_value:\n",
    "    print(\"Reject the null hypothesis. The variances are significantly different.\")\n",
    "else:\n",
    "    print(\"Fail to reject the null hypothesis. There is not enough evidence to conclude that the variances are significantly different.\")\n",
    "\n",
    "print(\"F-statistic:\", f_statistic)\n",
    "print(\"Critical value:\", critical_value)\n"
   ]
  },
  {
   "cell_type": "code",
   "execution_count": null,
   "id": "5b958066-5e30-4438-af18-68893b0d80e8",
   "metadata": {},
   "outputs": [],
   "source": []
  }
 ],
 "metadata": {
  "kernelspec": {
   "display_name": "Python 3 (ipykernel)",
   "language": "python",
   "name": "python3"
  },
  "language_info": {
   "codemirror_mode": {
    "name": "ipython",
    "version": 3
   },
   "file_extension": ".py",
   "mimetype": "text/x-python",
   "name": "python",
   "nbconvert_exporter": "python",
   "pygments_lexer": "ipython3",
   "version": "3.11.7"
  }
 },
 "nbformat": 4,
 "nbformat_minor": 5
}
