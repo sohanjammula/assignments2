{
 "cells": [
  {
   "cell_type": "code",
   "execution_count": null,
   "id": "4ccb2bdd-5204-4309-8639-bef27af4fdc5",
   "metadata": {},
   "outputs": [],
   "source": [
    "Q1. List any five functions of the pandas library with execution.\n",
    "\n",
    "answer:\n",
    "read_csv(): This function is used to read data from a CSV file into a DataFrame.\n",
    "python\n",
    "Copy code\n",
    "import pandas as pd\n",
    "\n",
    "# Read data from a CSV file\n",
    "df = pd.read_csv('data.csv')\n",
    "\n",
    "# Display the first few rows of the DataFrame\n",
    "print(df.head())\n",
    "info(): This function provides a concise summary of the DataFrame, including the data types of each column and the number of non-null values.\n",
    "python\n",
    "Copy code\n",
    "# Display information about the DataFrame\n",
    "print(df.info())\n",
    "describe(): This function computes summary statistics for numerical columns in the DataFrame, such as count, mean, standard deviation, minimum, and maximum values.\n",
    "python\n",
    "Copy code\n",
    "# Display summary statistics for numerical columns\n",
    "print(df.describe())\n",
    "groupby(): This function is used to group data in the DataFrame based on specified criteria. It is often followed by an aggregation function (e.g., sum(), mean()) to compute summary statistics for each group.\n",
    "python\n",
    "Copy code\n",
    "# Group data by 'Category' and calculate the mean of 'Value' for each group\n",
    "grouped_data = df.groupby('Category')['Value'].mean()\n",
    "\n",
    "# Display the result\n",
    "print(grouped_data)\n",
    "dropna(): This function is used to remove rows or columns from the DataFrame that contain missing values (NaN).\n",
    "python\n",
    "Copy code\n",
    "# Drop rows with missing values\n",
    "clean_df = df.dropna()\n",
    "\n",
    "# Display the first few rows of the cleaned DataFrame\n",
    "print(clean_df.head())"
   ]
  },
  {
   "cell_type": "code",
   "execution_count": null,
   "id": "ebfbee21-f4b8-4aa4-a953-2621886706df",
   "metadata": {},
   "outputs": [],
   "source": [
    "Q2. Given a Pandas DataFrame df with columns 'A', 'B', and 'C', write a Python function to re-index the\n",
    "DataFrame with a new index that starts from 1 and increments by 2 for each row."
   ]
  },
  {
   "cell_type": "code",
   "execution_count": 1,
   "id": "793f2058-e8da-4ec3-96be-ad3d91c77d42",
   "metadata": {},
   "outputs": [
    {
     "name": "stdout",
     "output_type": "stream",
     "text": [
      "    A   B   C\n",
      "1  10  40  70\n",
      "3  20  50  80\n",
      "5  30  60  90\n"
     ]
    }
   ],
   "source": [
    "import pandas as pd\n",
    "\n",
    "def reindex_dataframe(df):\n",
    "    # Reset the index of the DataFrame\n",
    "    df = df.reset_index(drop=True)\n",
    "    \n",
    "    # Create a new index starting from 1 and incrementing by 2 for each row\n",
    "    new_index = pd.Index(range(1, len(df)*2, 2))\n",
    "    \n",
    "    # Assign the new index to the DataFrame\n",
    "    df.index = new_index\n",
    "    \n",
    "    return df\n",
    "\n",
    "# Example DataFrame\n",
    "data = {'A': [10, 20, 30],\n",
    "        'B': [40, 50, 60],\n",
    "        'C': [70, 80, 90]}\n",
    "df = pd.DataFrame(data)\n",
    "\n",
    "# Reindex the DataFrame\n",
    "df = reindex_dataframe(df)\n",
    "\n",
    "# Print the DataFrame with the new index\n",
    "print(df)\n"
   ]
  },
  {
   "cell_type": "code",
   "execution_count": 2,
   "id": "1166de5e-db52-4051-9873-9d16f7b4d691",
   "metadata": {},
   "outputs": [],
   "source": [
    "import pandas as pd"
   ]
  },
  {
   "cell_type": "code",
   "execution_count": 3,
   "id": "18e0cea7-0a39-40f0-80d8-060f55c28818",
   "metadata": {},
   "outputs": [],
   "source": [
    "data11 = {\"values\":[2,4,6,4,8,9,32]} "
   ]
  },
  {
   "cell_type": "code",
   "execution_count": 6,
   "id": "7592b6cb-9dac-4fbb-a06b-034a8304e07c",
   "metadata": {},
   "outputs": [],
   "source": [
    "df=pd.DataFrame(data11)"
   ]
  },
  {
   "cell_type": "code",
   "execution_count": 7,
   "id": "769bca55-b1d7-4525-ba44-342fe5488e8e",
   "metadata": {},
   "outputs": [
    {
     "data": {
      "text/html": [
       "<div>\n",
       "<style scoped>\n",
       "    .dataframe tbody tr th:only-of-type {\n",
       "        vertical-align: middle;\n",
       "    }\n",
       "\n",
       "    .dataframe tbody tr th {\n",
       "        vertical-align: top;\n",
       "    }\n",
       "\n",
       "    .dataframe thead th {\n",
       "        text-align: right;\n",
       "    }\n",
       "</style>\n",
       "<table border=\"1\" class=\"dataframe\">\n",
       "  <thead>\n",
       "    <tr style=\"text-align: right;\">\n",
       "      <th></th>\n",
       "      <th>values</th>\n",
       "    </tr>\n",
       "  </thead>\n",
       "  <tbody>\n",
       "    <tr>\n",
       "      <th>0</th>\n",
       "      <td>2</td>\n",
       "    </tr>\n",
       "    <tr>\n",
       "      <th>1</th>\n",
       "      <td>4</td>\n",
       "    </tr>\n",
       "    <tr>\n",
       "      <th>2</th>\n",
       "      <td>6</td>\n",
       "    </tr>\n",
       "    <tr>\n",
       "      <th>3</th>\n",
       "      <td>4</td>\n",
       "    </tr>\n",
       "    <tr>\n",
       "      <th>4</th>\n",
       "      <td>8</td>\n",
       "    </tr>\n",
       "    <tr>\n",
       "      <th>5</th>\n",
       "      <td>9</td>\n",
       "    </tr>\n",
       "    <tr>\n",
       "      <th>6</th>\n",
       "      <td>32</td>\n",
       "    </tr>\n",
       "  </tbody>\n",
       "</table>\n",
       "</div>"
      ],
      "text/plain": [
       "   values\n",
       "0       2\n",
       "1       4\n",
       "2       6\n",
       "3       4\n",
       "4       8\n",
       "5       9\n",
       "6      32"
      ]
     },
     "execution_count": 7,
     "metadata": {},
     "output_type": "execute_result"
    }
   ],
   "source": [
    "df"
   ]
  },
  {
   "cell_type": "code",
   "execution_count": 20,
   "id": "fdc60b35-039f-45c2-96c3-1e47e6edfae5",
   "metadata": {},
   "outputs": [],
   "source": [
    "sum_of_first_three_values = df['values'].iloc[:3].sum()\n",
    "    "
   ]
  },
  {
   "cell_type": "code",
   "execution_count": 21,
   "id": "e9142421-70e2-46da-ac38-098087ca3495",
   "metadata": {},
   "outputs": [
    {
     "name": "stdout",
     "output_type": "stream",
     "text": [
      "sum of first three values is : 12\n"
     ]
    }
   ],
   "source": [
    "print(\"sum of first three values is :\",sum_of_first_three_values)"
   ]
  },
  {
   "cell_type": "code",
   "execution_count": 22,
   "id": "edf41bd1-e168-4fa8-ae5f-424af326db50",
   "metadata": {},
   "outputs": [],
   "source": [
    "def test1(df):\n",
    "    sum_of_first_three_values = df['values'].iloc[:3].sum()\n",
    "    print(\"sum of first three values is :\",sum_of_first_three_values)"
   ]
  },
  {
   "cell_type": "code",
   "execution_count": 23,
   "id": "3ee4438f-3199-4671-9bd3-50c695f1616d",
   "metadata": {},
   "outputs": [
    {
     "name": "stdout",
     "output_type": "stream",
     "text": [
      "sum of first three values is : 12\n"
     ]
    }
   ],
   "source": [
    "test1(df)"
   ]
  },
  {
   "cell_type": "code",
   "execution_count": null,
   "id": "b89c0ff5-3386-46a8-8664-b25643c81026",
   "metadata": {},
   "outputs": [],
   "source": [
    "Q4. Given a Pandas DataFrame df with a column 'Text', write a Python function to create a new column\n",
    "'Word_Count' that contains the number of words in each row of the 'Text' column.\n"
   ]
  },
  {
   "cell_type": "code",
   "execution_count": 24,
   "id": "e580a11f-e75e-4b2f-a0f5-ed9a0e47ea48",
   "metadata": {},
   "outputs": [],
   "source": [
    "import pandas as pd\n"
   ]
  },
  {
   "cell_type": "code",
   "execution_count": 43,
   "id": "c796b741-69c1-4191-a423-0ec504940cb9",
   "metadata": {},
   "outputs": [],
   "source": [
    "data2={\"Text\":[\"sudha nshu\",\"ku mar\",\"data science\",\"hyun dai\"]}\n",
    "df1=pd.DataFrame(data2)"
   ]
  },
  {
   "cell_type": "code",
   "execution_count": 44,
   "id": "a5ed39dd-f262-4e57-89ec-dd4a4c7dded1",
   "metadata": {},
   "outputs": [
    {
     "data": {
      "text/html": [
       "<div>\n",
       "<style scoped>\n",
       "    .dataframe tbody tr th:only-of-type {\n",
       "        vertical-align: middle;\n",
       "    }\n",
       "\n",
       "    .dataframe tbody tr th {\n",
       "        vertical-align: top;\n",
       "    }\n",
       "\n",
       "    .dataframe thead th {\n",
       "        text-align: right;\n",
       "    }\n",
       "</style>\n",
       "<table border=\"1\" class=\"dataframe\">\n",
       "  <thead>\n",
       "    <tr style=\"text-align: right;\">\n",
       "      <th></th>\n",
       "      <th>Text</th>\n",
       "    </tr>\n",
       "  </thead>\n",
       "  <tbody>\n",
       "    <tr>\n",
       "      <th>0</th>\n",
       "      <td>sudha nshu</td>\n",
       "    </tr>\n",
       "    <tr>\n",
       "      <th>1</th>\n",
       "      <td>ku mar</td>\n",
       "    </tr>\n",
       "    <tr>\n",
       "      <th>2</th>\n",
       "      <td>data science</td>\n",
       "    </tr>\n",
       "    <tr>\n",
       "      <th>3</th>\n",
       "      <td>hyun dai</td>\n",
       "    </tr>\n",
       "  </tbody>\n",
       "</table>\n",
       "</div>"
      ],
      "text/plain": [
       "           Text\n",
       "0    sudha nshu\n",
       "1        ku mar\n",
       "2  data science\n",
       "3      hyun dai"
      ]
     },
     "execution_count": 44,
     "metadata": {},
     "output_type": "execute_result"
    }
   ],
   "source": [
    "df1"
   ]
  },
  {
   "cell_type": "code",
   "execution_count": 45,
   "id": "7fc521c7-6e0e-470b-8206-610bfd2eb04c",
   "metadata": {},
   "outputs": [],
   "source": [
    "\n",
    "def count_words(text):\n",
    "    word_count = len(text.split())\n",
    "    return word_count\n",
    "\n",
    "def add_word_count_column(df):\n",
    "    df['Word_Count'] = df['Text'].apply(count_words)"
   ]
  },
  {
   "cell_type": "code",
   "execution_count": 46,
   "id": "240a7b30-4df4-4a01-8007-137eb028f16b",
   "metadata": {},
   "outputs": [],
   "source": [
    "add_word_count_column(df1)"
   ]
  },
  {
   "cell_type": "code",
   "execution_count": 47,
   "id": "a8e42ce0-9115-48fa-9673-61a2f5f64d22",
   "metadata": {},
   "outputs": [
    {
     "data": {
      "text/html": [
       "<div>\n",
       "<style scoped>\n",
       "    .dataframe tbody tr th:only-of-type {\n",
       "        vertical-align: middle;\n",
       "    }\n",
       "\n",
       "    .dataframe tbody tr th {\n",
       "        vertical-align: top;\n",
       "    }\n",
       "\n",
       "    .dataframe thead th {\n",
       "        text-align: right;\n",
       "    }\n",
       "</style>\n",
       "<table border=\"1\" class=\"dataframe\">\n",
       "  <thead>\n",
       "    <tr style=\"text-align: right;\">\n",
       "      <th></th>\n",
       "      <th>Text</th>\n",
       "      <th>Word_Count</th>\n",
       "    </tr>\n",
       "  </thead>\n",
       "  <tbody>\n",
       "    <tr>\n",
       "      <th>0</th>\n",
       "      <td>sudha nshu</td>\n",
       "      <td>2</td>\n",
       "    </tr>\n",
       "    <tr>\n",
       "      <th>1</th>\n",
       "      <td>ku mar</td>\n",
       "      <td>2</td>\n",
       "    </tr>\n",
       "    <tr>\n",
       "      <th>2</th>\n",
       "      <td>data science</td>\n",
       "      <td>2</td>\n",
       "    </tr>\n",
       "    <tr>\n",
       "      <th>3</th>\n",
       "      <td>hyun dai</td>\n",
       "      <td>2</td>\n",
       "    </tr>\n",
       "  </tbody>\n",
       "</table>\n",
       "</div>"
      ],
      "text/plain": [
       "           Text  Word_Count\n",
       "0    sudha nshu           2\n",
       "1        ku mar           2\n",
       "2  data science           2\n",
       "3      hyun dai           2"
      ]
     },
     "execution_count": 47,
     "metadata": {},
     "output_type": "execute_result"
    }
   ],
   "source": [
    "df1"
   ]
  },
  {
   "cell_type": "code",
   "execution_count": null,
   "id": "f15594ae-8384-4221-8ae2-db96bf559cbc",
   "metadata": {},
   "outputs": [],
   "source": []
  },
  {
   "cell_type": "code",
   "execution_count": null,
   "id": "1ed15998-b84f-46df-8bd9-18a8ef146db6",
   "metadata": {},
   "outputs": [],
   "source": [
    "Q5. How are DataFrame.size() and DataFrame.shape() different?\n",
    "\n",
    "answer:\n",
    "\n",
    "DataFrame.size and DataFrame.shape are both attributes of a Pandas DataFrame, but they provide different information about the DataFrame:\n",
    "\n",
    "DataFrame.size: This attribute returns the total number of elements in the DataFrame. It is equivalent to the number of rows multiplied by the \n",
    "number of columns.\n",
    "\n",
    "DataFrame.shape: This attribute returns a tuple representing the dimensions of the DataFrame. It provides the number of rows and columns in the\n",
    "DataFrame.\n",
    "\n",
    "Here's a breakdown of the differences:\n",
    "\n",
    "DataFrame.size:\n",
    "\n",
    "Returns the total number of elements (cells) in the DataFrame.\n",
    "Formula: Number of rows × Number of columns.\n",
    "It gives the total count of cells in the DataFrame.\n",
    "The value of DataFrame.size is an integer.\n",
    "DataFrame.shape:\n",
    "\n",
    "Returns a tuple (number of rows, number of columns) representing the dimensions of the DataFrame.\n",
    "It gives the number of rows and columns in the DataFrame.\n",
    "The value of DataFrame.shape is a tuple containing two integers."
   ]
  },
  {
   "cell_type": "code",
   "execution_count": 48,
   "id": "793c6de5-6b4b-4e2f-a3fa-f40d96b20d9e",
   "metadata": {},
   "outputs": [
    {
     "name": "stdout",
     "output_type": "stream",
     "text": [
      "DataFrame.size: 6\n",
      "DataFrame.shape: (3, 2)\n"
     ]
    }
   ],
   "source": [
    "import pandas as pd\n",
    "\n",
    "# Example DataFrame\n",
    "data = {'A': [1, 2, 3], 'B': [4, 5, 6]}\n",
    "df = pd.DataFrame(data)\n",
    "\n",
    "print(\"DataFrame.size:\", df.size) \n",
    "\n",
    "# Using DataFrame.shape\n",
    "print(\"DataFrame.shape:\", df.shape)  \n"
   ]
  },
  {
   "cell_type": "code",
   "execution_count": null,
   "id": "93f48d43-e1d6-4fcd-b71d-7f2041b69ee0",
   "metadata": {},
   "outputs": [],
   "source": [
    "Q6. Which function of pandas do we use to read an excel file?\n",
    "\n",
    "answer:\n",
    "pd.read_excel()\n",
    "pd.read_excel() is a function provided by Pandas to read data from an Excel file.\n",
    "You need to specify the file path (relative or absolute) as an argument to pd.read_excel(). Replace 'your_file.xlsx' with the path to your Excel file."
   ]
  },
  {
   "cell_type": "code",
   "execution_count": null,
   "id": "1829092f-e0b3-43da-aeb8-8a6d40fbad87",
   "metadata": {},
   "outputs": [],
   "source": [
    "Q7. You have a Pandas DataFrame df that contains a column named 'Email' that contains email\n",
    "addresses in the format 'username@domain.com'. Write a Python function that creates a new column\n",
    "'Username' in df that contains only the username part of each email address."
   ]
  },
  {
   "cell_type": "code",
   "execution_count": 49,
   "id": "e1b7d017-4066-489d-a425-5e629d3f0d61",
   "metadata": {},
   "outputs": [],
   "source": [
    "import pandas as pd"
   ]
  },
  {
   "cell_type": "code",
   "execution_count": 50,
   "id": "6a38337d-edfc-4c93-b70c-c03aa1dd40f2",
   "metadata": {},
   "outputs": [],
   "source": [
    "data3={\"Email\":[\"sudhanshu145@gmail.com\",\"kumar435@gmail.com\",\"rockstar398@gmail.com\",\"mouli674@gmail.com\"]}"
   ]
  },
  {
   "cell_type": "code",
   "execution_count": 51,
   "id": "61a4feee-d5c8-4d44-9fb7-e32bb4305a8a",
   "metadata": {},
   "outputs": [],
   "source": [
    "df3=pd.DataFrame(data3)"
   ]
  },
  {
   "cell_type": "code",
   "execution_count": 64,
   "id": "9ad9580d-3c67-4caa-abb1-ee754c922ee3",
   "metadata": {},
   "outputs": [
    {
     "data": {
      "text/html": [
       "<div>\n",
       "<style scoped>\n",
       "    .dataframe tbody tr th:only-of-type {\n",
       "        vertical-align: middle;\n",
       "    }\n",
       "\n",
       "    .dataframe tbody tr th {\n",
       "        vertical-align: top;\n",
       "    }\n",
       "\n",
       "    .dataframe thead th {\n",
       "        text-align: right;\n",
       "    }\n",
       "</style>\n",
       "<table border=\"1\" class=\"dataframe\">\n",
       "  <thead>\n",
       "    <tr style=\"text-align: right;\">\n",
       "      <th></th>\n",
       "      <th>Email</th>\n",
       "    </tr>\n",
       "  </thead>\n",
       "  <tbody>\n",
       "    <tr>\n",
       "      <th>0</th>\n",
       "      <td>sudhanshu145@gmail.com</td>\n",
       "    </tr>\n",
       "    <tr>\n",
       "      <th>1</th>\n",
       "      <td>kumar435@gmail.com</td>\n",
       "    </tr>\n",
       "    <tr>\n",
       "      <th>2</th>\n",
       "      <td>rockstar398@gmail.com</td>\n",
       "    </tr>\n",
       "    <tr>\n",
       "      <th>3</th>\n",
       "      <td>mouli674@gmail.com</td>\n",
       "    </tr>\n",
       "  </tbody>\n",
       "</table>\n",
       "</div>"
      ],
      "text/plain": [
       "                    Email\n",
       "0  sudhanshu145@gmail.com\n",
       "1      kumar435@gmail.com\n",
       "2   rockstar398@gmail.com\n",
       "3      mouli674@gmail.com"
      ]
     },
     "execution_count": 64,
     "metadata": {},
     "output_type": "execute_result"
    }
   ],
   "source": [
    "df3"
   ]
  },
  {
   "cell_type": "code",
   "execution_count": 68,
   "id": "03ffb658-169c-4049-9983-de4f4dc66ed2",
   "metadata": {},
   "outputs": [],
   "source": [
    "def name_splitt(email):\n",
    "    username = email.split('@')[0]\n",
    "    return username\n",
    "def add_column1(df):\n",
    "    df3['username']=df3['Email'].apply(name_splitt)\n",
    "    "
   ]
  },
  {
   "cell_type": "code",
   "execution_count": 69,
   "id": "d5118702-63d7-4567-b25c-d0994c57c3bb",
   "metadata": {},
   "outputs": [],
   "source": [
    "add_column1(df3)"
   ]
  },
  {
   "cell_type": "code",
   "execution_count": 70,
   "id": "a6f02e62-49d4-4014-8e64-8f943d334424",
   "metadata": {},
   "outputs": [
    {
     "data": {
      "text/html": [
       "<div>\n",
       "<style scoped>\n",
       "    .dataframe tbody tr th:only-of-type {\n",
       "        vertical-align: middle;\n",
       "    }\n",
       "\n",
       "    .dataframe tbody tr th {\n",
       "        vertical-align: top;\n",
       "    }\n",
       "\n",
       "    .dataframe thead th {\n",
       "        text-align: right;\n",
       "    }\n",
       "</style>\n",
       "<table border=\"1\" class=\"dataframe\">\n",
       "  <thead>\n",
       "    <tr style=\"text-align: right;\">\n",
       "      <th></th>\n",
       "      <th>Email</th>\n",
       "      <th>username</th>\n",
       "    </tr>\n",
       "  </thead>\n",
       "  <tbody>\n",
       "    <tr>\n",
       "      <th>0</th>\n",
       "      <td>sudhanshu145@gmail.com</td>\n",
       "      <td>sudhanshu145</td>\n",
       "    </tr>\n",
       "    <tr>\n",
       "      <th>1</th>\n",
       "      <td>kumar435@gmail.com</td>\n",
       "      <td>kumar435</td>\n",
       "    </tr>\n",
       "    <tr>\n",
       "      <th>2</th>\n",
       "      <td>rockstar398@gmail.com</td>\n",
       "      <td>rockstar398</td>\n",
       "    </tr>\n",
       "    <tr>\n",
       "      <th>3</th>\n",
       "      <td>mouli674@gmail.com</td>\n",
       "      <td>mouli674</td>\n",
       "    </tr>\n",
       "  </tbody>\n",
       "</table>\n",
       "</div>"
      ],
      "text/plain": [
       "                    Email      username\n",
       "0  sudhanshu145@gmail.com  sudhanshu145\n",
       "1      kumar435@gmail.com      kumar435\n",
       "2   rockstar398@gmail.com   rockstar398\n",
       "3      mouli674@gmail.com      mouli674"
      ]
     },
     "execution_count": 70,
     "metadata": {},
     "output_type": "execute_result"
    }
   ],
   "source": [
    "df3"
   ]
  },
  {
   "cell_type": "code",
   "execution_count": null,
   "id": "313360ce-bfe7-4ab3-b4de-5b6781a5b1e9",
   "metadata": {},
   "outputs": [],
   "source": [
    "Q8. You have a Pandas DataFrame df with columns 'A', 'B', and 'C'. Write a Python function that selects\n",
    "all rows where the value in column 'A' is greater than 5 and the value in column 'B' is less than 10. The\n",
    "function should return a new DataFrame that contains only the selected rows."
   ]
  },
  {
   "cell_type": "code",
   "execution_count": 72,
   "id": "91283d53-2dd2-4128-9675-51104a3f6e77",
   "metadata": {},
   "outputs": [
    {
     "name": "stdout",
     "output_type": "stream",
     "text": [
      "   A  B   C\n",
      "1  6  3  20\n",
      "2  7  8  30\n",
      "3  8  9  40\n",
      "4  9  2  50\n"
     ]
    }
   ],
   "source": [
    "import pandas as pd\n",
    "\n",
    "def select_rows(df):\n",
    "    selected_rows = df[(df['A'] > 5) & (df['B'] < 10)]\n",
    "    return selected_rows\n",
    "\n",
    "# Example DataFrame\n",
    "data = {'A': [4, 6, 7, 8, 9],\n",
    "        'B': [5, 3, 8, 9, 2],\n",
    "        'C': [10, 20, 30, 40, 50]}\n",
    "df = pd.DataFrame(data)\n",
    "\n",
    "selected_df = select_rows(df)\n",
    "\n",
    "print(selected_df)\n"
   ]
  },
  {
   "cell_type": "code",
   "execution_count": null,
   "id": "f7d86f1d-f35f-49d6-82c1-e6eda60700d6",
   "metadata": {},
   "outputs": [],
   "source": [
    "Q9. Given a Pandas DataFrame df with a column 'Values', write a Python function to calculate the mean,\n",
    "median, and standard deviation of the values in the 'Values' column."
   ]
  },
  {
   "cell_type": "code",
   "execution_count": 73,
   "id": "634791b8-d24d-4ba6-83bd-8149e3354b61",
   "metadata": {},
   "outputs": [],
   "source": [
    "import pandas as pd"
   ]
  },
  {
   "cell_type": "code",
   "execution_count": 74,
   "id": "46260518-de1a-4ac5-ac49-138ea6fc9bb5",
   "metadata": {},
   "outputs": [],
   "source": [
    "data5={\"Values\":[3,4,5,87,54,335,7544,7,3,344.6736]}\n",
    "df5=pd.DataFrame(data5)"
   ]
  },
  {
   "cell_type": "code",
   "execution_count": 75,
   "id": "10a1aa66-ecad-4451-8f93-c6287ed72dcb",
   "metadata": {},
   "outputs": [
    {
     "data": {
      "text/html": [
       "<div>\n",
       "<style scoped>\n",
       "    .dataframe tbody tr th:only-of-type {\n",
       "        vertical-align: middle;\n",
       "    }\n",
       "\n",
       "    .dataframe tbody tr th {\n",
       "        vertical-align: top;\n",
       "    }\n",
       "\n",
       "    .dataframe thead th {\n",
       "        text-align: right;\n",
       "    }\n",
       "</style>\n",
       "<table border=\"1\" class=\"dataframe\">\n",
       "  <thead>\n",
       "    <tr style=\"text-align: right;\">\n",
       "      <th></th>\n",
       "      <th>Values</th>\n",
       "    </tr>\n",
       "  </thead>\n",
       "  <tbody>\n",
       "    <tr>\n",
       "      <th>0</th>\n",
       "      <td>3.0000</td>\n",
       "    </tr>\n",
       "    <tr>\n",
       "      <th>1</th>\n",
       "      <td>4.0000</td>\n",
       "    </tr>\n",
       "    <tr>\n",
       "      <th>2</th>\n",
       "      <td>5.0000</td>\n",
       "    </tr>\n",
       "    <tr>\n",
       "      <th>3</th>\n",
       "      <td>87.0000</td>\n",
       "    </tr>\n",
       "    <tr>\n",
       "      <th>4</th>\n",
       "      <td>54.0000</td>\n",
       "    </tr>\n",
       "    <tr>\n",
       "      <th>5</th>\n",
       "      <td>335.0000</td>\n",
       "    </tr>\n",
       "    <tr>\n",
       "      <th>6</th>\n",
       "      <td>7544.0000</td>\n",
       "    </tr>\n",
       "    <tr>\n",
       "      <th>7</th>\n",
       "      <td>7.0000</td>\n",
       "    </tr>\n",
       "    <tr>\n",
       "      <th>8</th>\n",
       "      <td>3.0000</td>\n",
       "    </tr>\n",
       "    <tr>\n",
       "      <th>9</th>\n",
       "      <td>344.6736</td>\n",
       "    </tr>\n",
       "  </tbody>\n",
       "</table>\n",
       "</div>"
      ],
      "text/plain": [
       "      Values\n",
       "0     3.0000\n",
       "1     4.0000\n",
       "2     5.0000\n",
       "3    87.0000\n",
       "4    54.0000\n",
       "5   335.0000\n",
       "6  7544.0000\n",
       "7     7.0000\n",
       "8     3.0000\n",
       "9   344.6736"
      ]
     },
     "execution_count": 75,
     "metadata": {},
     "output_type": "execute_result"
    }
   ],
   "source": [
    "df5"
   ]
  },
  {
   "cell_type": "code",
   "execution_count": 84,
   "id": "d5019b97-fde6-4756-a5c9-10d4e71cfa10",
   "metadata": {},
   "outputs": [],
   "source": [
    "def description(df):\n",
    "    descrip=df['Values'].describe()\n",
    "    return descrip"
   ]
  },
  {
   "cell_type": "code",
   "execution_count": 88,
   "id": "e4e0b9a0-5ae0-499a-8cc6-aad7d5989cec",
   "metadata": {},
   "outputs": [
    {
     "data": {
      "text/plain": [
       "count      10.000000\n",
       "mean      838.667360\n",
       "std      2359.847558\n",
       "min         3.000000\n",
       "25%         4.250000\n",
       "50%        30.500000\n",
       "75%       273.000000\n",
       "max      7544.000000\n",
       "Name: Values, dtype: float64"
      ]
     },
     "execution_count": 88,
     "metadata": {},
     "output_type": "execute_result"
    }
   ],
   "source": [
    "description(df5)"
   ]
  },
  {
   "cell_type": "code",
   "execution_count": null,
   "id": "2aac04e6-ba71-4172-95a7-0f7dce51a6a4",
   "metadata": {},
   "outputs": [],
   "source": [
    "Q10. Given a Pandas DataFrame df with a column 'Sales' and a column 'Date', write a Python function to\n",
    "create a new column 'MovingAverage' that contains the moving average of the sales for the past 7 days\n",
    "for each row in the DataFrame. The moving average should be calculated using a window of size 7 and\n",
    "should include the current day."
   ]
  },
  {
   "cell_type": "code",
   "execution_count": 89,
   "id": "77b77a39-b56f-4318-990f-b95b61c2fa85",
   "metadata": {},
   "outputs": [],
   "source": [
    "import pandas as pd"
   ]
  },
  {
   "cell_type": "code",
   "execution_count": 104,
   "id": "4c05e3d7-9273-4f18-80b0-98454309e868",
   "metadata": {},
   "outputs": [],
   "source": [
    "data6={\"sales\":[64783,98467,76383,92345,43526,53652,87352,45698,98645,65432,95625],\n",
    "       \"date\":[23,24,25,26,27,28,29,30,1,2,3]}"
   ]
  },
  {
   "cell_type": "code",
   "execution_count": 105,
   "id": "6dd5c055-e35c-4bbc-8cba-a603f10685ad",
   "metadata": {},
   "outputs": [],
   "source": [
    "df=pd.DataFrame(data6)"
   ]
  },
  {
   "cell_type": "code",
   "execution_count": 106,
   "id": "be0812f4-2f6e-4c13-83c7-84b259d137fc",
   "metadata": {},
   "outputs": [
    {
     "data": {
      "text/html": [
       "<div>\n",
       "<style scoped>\n",
       "    .dataframe tbody tr th:only-of-type {\n",
       "        vertical-align: middle;\n",
       "    }\n",
       "\n",
       "    .dataframe tbody tr th {\n",
       "        vertical-align: top;\n",
       "    }\n",
       "\n",
       "    .dataframe thead th {\n",
       "        text-align: right;\n",
       "    }\n",
       "</style>\n",
       "<table border=\"1\" class=\"dataframe\">\n",
       "  <thead>\n",
       "    <tr style=\"text-align: right;\">\n",
       "      <th></th>\n",
       "      <th>sales</th>\n",
       "      <th>date</th>\n",
       "    </tr>\n",
       "  </thead>\n",
       "  <tbody>\n",
       "    <tr>\n",
       "      <th>0</th>\n",
       "      <td>64783</td>\n",
       "      <td>23</td>\n",
       "    </tr>\n",
       "    <tr>\n",
       "      <th>1</th>\n",
       "      <td>98467</td>\n",
       "      <td>24</td>\n",
       "    </tr>\n",
       "    <tr>\n",
       "      <th>2</th>\n",
       "      <td>76383</td>\n",
       "      <td>25</td>\n",
       "    </tr>\n",
       "    <tr>\n",
       "      <th>3</th>\n",
       "      <td>92345</td>\n",
       "      <td>26</td>\n",
       "    </tr>\n",
       "    <tr>\n",
       "      <th>4</th>\n",
       "      <td>43526</td>\n",
       "      <td>27</td>\n",
       "    </tr>\n",
       "    <tr>\n",
       "      <th>5</th>\n",
       "      <td>53652</td>\n",
       "      <td>28</td>\n",
       "    </tr>\n",
       "    <tr>\n",
       "      <th>6</th>\n",
       "      <td>87352</td>\n",
       "      <td>29</td>\n",
       "    </tr>\n",
       "    <tr>\n",
       "      <th>7</th>\n",
       "      <td>45698</td>\n",
       "      <td>30</td>\n",
       "    </tr>\n",
       "    <tr>\n",
       "      <th>8</th>\n",
       "      <td>98645</td>\n",
       "      <td>1</td>\n",
       "    </tr>\n",
       "    <tr>\n",
       "      <th>9</th>\n",
       "      <td>65432</td>\n",
       "      <td>2</td>\n",
       "    </tr>\n",
       "    <tr>\n",
       "      <th>10</th>\n",
       "      <td>95625</td>\n",
       "      <td>3</td>\n",
       "    </tr>\n",
       "  </tbody>\n",
       "</table>\n",
       "</div>"
      ],
      "text/plain": [
       "    sales  date\n",
       "0   64783    23\n",
       "1   98467    24\n",
       "2   76383    25\n",
       "3   92345    26\n",
       "4   43526    27\n",
       "5   53652    28\n",
       "6   87352    29\n",
       "7   45698    30\n",
       "8   98645     1\n",
       "9   65432     2\n",
       "10  95625     3"
      ]
     },
     "execution_count": 106,
     "metadata": {},
     "output_type": "execute_result"
    }
   ],
   "source": [
    "df"
   ]
  },
  {
   "cell_type": "code",
   "execution_count": 108,
   "id": "728dfbe6-9866-440c-bc27-2dee9b063026",
   "metadata": {},
   "outputs": [],
   "source": [
    "df['Moving_Average'] = df['sales'].rolling(window=7).mean()"
   ]
  },
  {
   "cell_type": "code",
   "execution_count": 109,
   "id": "e1c2532a-42b9-4aee-8d76-92ae85c65661",
   "metadata": {},
   "outputs": [
    {
     "data": {
      "text/html": [
       "<div>\n",
       "<style scoped>\n",
       "    .dataframe tbody tr th:only-of-type {\n",
       "        vertical-align: middle;\n",
       "    }\n",
       "\n",
       "    .dataframe tbody tr th {\n",
       "        vertical-align: top;\n",
       "    }\n",
       "\n",
       "    .dataframe thead th {\n",
       "        text-align: right;\n",
       "    }\n",
       "</style>\n",
       "<table border=\"1\" class=\"dataframe\">\n",
       "  <thead>\n",
       "    <tr style=\"text-align: right;\">\n",
       "      <th></th>\n",
       "      <th>sales</th>\n",
       "      <th>date</th>\n",
       "      <th>Moving_Average</th>\n",
       "    </tr>\n",
       "  </thead>\n",
       "  <tbody>\n",
       "    <tr>\n",
       "      <th>0</th>\n",
       "      <td>64783</td>\n",
       "      <td>23</td>\n",
       "      <td>NaN</td>\n",
       "    </tr>\n",
       "    <tr>\n",
       "      <th>1</th>\n",
       "      <td>98467</td>\n",
       "      <td>24</td>\n",
       "      <td>NaN</td>\n",
       "    </tr>\n",
       "    <tr>\n",
       "      <th>2</th>\n",
       "      <td>76383</td>\n",
       "      <td>25</td>\n",
       "      <td>NaN</td>\n",
       "    </tr>\n",
       "    <tr>\n",
       "      <th>3</th>\n",
       "      <td>92345</td>\n",
       "      <td>26</td>\n",
       "      <td>NaN</td>\n",
       "    </tr>\n",
       "    <tr>\n",
       "      <th>4</th>\n",
       "      <td>43526</td>\n",
       "      <td>27</td>\n",
       "      <td>NaN</td>\n",
       "    </tr>\n",
       "    <tr>\n",
       "      <th>5</th>\n",
       "      <td>53652</td>\n",
       "      <td>28</td>\n",
       "      <td>NaN</td>\n",
       "    </tr>\n",
       "    <tr>\n",
       "      <th>6</th>\n",
       "      <td>87352</td>\n",
       "      <td>29</td>\n",
       "      <td>73786.857143</td>\n",
       "    </tr>\n",
       "    <tr>\n",
       "      <th>7</th>\n",
       "      <td>45698</td>\n",
       "      <td>30</td>\n",
       "      <td>71060.428571</td>\n",
       "    </tr>\n",
       "    <tr>\n",
       "      <th>8</th>\n",
       "      <td>98645</td>\n",
       "      <td>1</td>\n",
       "      <td>71085.857143</td>\n",
       "    </tr>\n",
       "    <tr>\n",
       "      <th>9</th>\n",
       "      <td>65432</td>\n",
       "      <td>2</td>\n",
       "      <td>69521.428571</td>\n",
       "    </tr>\n",
       "    <tr>\n",
       "      <th>10</th>\n",
       "      <td>95625</td>\n",
       "      <td>3</td>\n",
       "      <td>69990.000000</td>\n",
       "    </tr>\n",
       "  </tbody>\n",
       "</table>\n",
       "</div>"
      ],
      "text/plain": [
       "    sales  date  Moving_Average\n",
       "0   64783    23             NaN\n",
       "1   98467    24             NaN\n",
       "2   76383    25             NaN\n",
       "3   92345    26             NaN\n",
       "4   43526    27             NaN\n",
       "5   53652    28             NaN\n",
       "6   87352    29    73786.857143\n",
       "7   45698    30    71060.428571\n",
       "8   98645     1    71085.857143\n",
       "9   65432     2    69521.428571\n",
       "10  95625     3    69990.000000"
      ]
     },
     "execution_count": 109,
     "metadata": {},
     "output_type": "execute_result"
    }
   ],
   "source": [
    "df"
   ]
  },
  {
   "cell_type": "code",
   "execution_count": null,
   "id": "f060f5e2-c730-4094-bf78-d836c6feb25e",
   "metadata": {},
   "outputs": [],
   "source": []
  },
  {
   "cell_type": "code",
   "execution_count": 116,
   "id": "69493aec-0cd1-4b54-85aa-388e0ec348f4",
   "metadata": {},
   "outputs": [
    {
     "name": "stdout",
     "output_type": "stream",
     "text": [
      "         Date    Weekday\n",
      "0  2024-03-18     Monday\n",
      "1  2024-03-19    Tuesday\n",
      "2  2024-03-20  Wednesday\n"
     ]
    }
   ],
   "source": [
    "import pandas as pd\n",
    "\n",
    "def get_weekday_name(date_str):\n",
    "    # Convert the date string to a datetime object and extract the weekday name\n",
    "    return pd.Timestamp(date_str).day_name()\n",
    "\n",
    "def add_weekday_column(df):\n",
    "    # Add a new column 'Weekday' containing the weekday name\n",
    "    df['Weekday'] = df['Date'].apply(get_weekday_name)\n",
    "\n",
    "# Example DataFrame\n",
    "data = {'Date': ['2024-03-18', '2024-03-19', '2024-03-20']}\n",
    "df = pd.DataFrame(data)\n",
    "\n",
    "# Add the 'Weekday' column\n",
    "add_weekday_column(df)\n",
    "\n",
    "# Print the DataFrame\n",
    "print(df)\n",
    "\n"
   ]
  },
  {
   "cell_type": "code",
   "execution_count": null,
   "id": "08f59c1b-96e2-4c6b-a697-a21a8c95ebd1",
   "metadata": {},
   "outputs": [],
   "source": [
    "Q12. Given a Pandas DataFrame df with a column 'Date' that contains timestamps, write a Python\n",
    "function to select all rows where the date is between '2023-01-01' and '2023-01-31'."
   ]
  },
  {
   "cell_type": "code",
   "execution_count": 117,
   "id": "dc2fd398-3e0d-41bd-a3b5-1c81b3b744de",
   "metadata": {},
   "outputs": [
    {
     "name": "stdout",
     "output_type": "stream",
     "text": [
      "        Date\n",
      "0 2023-01-01\n",
      "1 2023-01-15\n"
     ]
    }
   ],
   "source": [
    "import pandas as pd\n",
    "\n",
    "def select_rows_within_date_range(df, start_date, end_date):\n",
    "    # Convert the 'Date' column to datetime format if it's not already\n",
    "    df['Date'] = pd.to_datetime(df['Date'])\n",
    "    \n",
    "    # Select rows within the date range\n",
    "    selected_rows = df[(df['Date'] >= start_date) & (df['Date'] <= end_date)]\n",
    "    \n",
    "    return selected_rows\n",
    "\n",
    "# Example DataFrame\n",
    "data = {'Date': ['2023-01-01', '2023-01-15', '2023-02-01']}\n",
    "df = pd.DataFrame(data)\n",
    "\n",
    "# Specify the start and end dates for the date range\n",
    "start_date = '2023-01-01'\n",
    "end_date = '2023-01-31'\n",
    "\n",
    "# Call the function to select rows within the date range\n",
    "selected_df = select_rows_within_date_range(df, start_date, end_date)\n",
    "\n",
    "# Print the selected DataFrame\n",
    "print(selected_df)\n"
   ]
  },
  {
   "cell_type": "code",
   "execution_count": null,
   "id": "07a563dc-0d88-4b3c-bc99-aff6bf4a6ecd",
   "metadata": {},
   "outputs": [],
   "source": [
    "Q13. To use the basic functions of pandas, what is the first and foremost necessary library that needs to\n",
    "be imported?\n",
    "\n",
    "answer:\n",
    "To use the basic functions of Pandas, the first and foremost necessary library that needs to be imported is pandas itself.\n",
    "import pandas as pd"
   ]
  }
 ],
 "metadata": {
  "kernelspec": {
   "display_name": "Python 3 (ipykernel)",
   "language": "python",
   "name": "python3"
  },
  "language_info": {
   "codemirror_mode": {
    "name": "ipython",
    "version": 3
   },
   "file_extension": ".py",
   "mimetype": "text/x-python",
   "name": "python",
   "nbconvert_exporter": "python",
   "pygments_lexer": "ipython3",
   "version": "3.11.7"
  }
 },
 "nbformat": 4,
 "nbformat_minor": 5
}
