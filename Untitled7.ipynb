{
 "cells": [
  {
   "cell_type": "code",
   "execution_count": null,
   "id": "b5585d49-62e7-42bb-bc5d-7bb893bfee73",
   "metadata": {},
   "outputs": [],
   "source": [
    "Q1. Which keyword is used to create a function? Create a function to return a list of odd numbers in the\n",
    "range of 1 to 25.\n",
    "\n",
    "answer:\n",
    "def keyword is used to create a function"
   ]
  },
  {
   "cell_type": "code",
   "execution_count": 1,
   "id": "87cb71b2-2161-458d-aa2d-b2c35f898732",
   "metadata": {},
   "outputs": [],
   "source": [
    "def odd1():\n",
    "    for i in range(0,26):\n",
    "        if i%2==0:\n",
    "            print('')\n",
    "        else:\n",
    "            print(i)\n"
   ]
  },
  {
   "cell_type": "code",
   "execution_count": 2,
   "id": "fa0bd3b5-7c3b-47af-8c91-bb1ceee1252f",
   "metadata": {},
   "outputs": [
    {
     "name": "stdout",
     "output_type": "stream",
     "text": [
      "\n",
      "1\n",
      "\n",
      "3\n",
      "\n",
      "5\n",
      "\n",
      "7\n",
      "\n",
      "9\n",
      "\n",
      "11\n",
      "\n",
      "13\n",
      "\n",
      "15\n",
      "\n",
      "17\n",
      "\n",
      "19\n",
      "\n",
      "21\n",
      "\n",
      "23\n",
      "\n",
      "25\n"
     ]
    }
   ],
   "source": [
    "odd1()"
   ]
  },
  {
   "cell_type": "code",
   "execution_count": null,
   "id": "526628b1-4af4-4a49-ad86-582b8df9e878",
   "metadata": {},
   "outputs": [],
   "source": [
    "Q2. Why *args and **kwargs is used in some functions? Create a function each for *args and **kwargs\n",
    "to demonstrate their use.\n",
    "\n",
    "answer:\n",
    "*args and **kwargs are used in Python functions to handle variable numbers of arguments.\n",
    "\n",
    "*args allows a function to accept any number of positional arguments. It collects these arguments into a tuple within the function.\n",
    "\n",
    "**kwargs allows a function to accept any number of keyword arguments (arguments passed with a keyword). It collects these arguments into a \n",
    "    dictionary within the function."
   ]
  },
  {
   "cell_type": "code",
   "execution_count": null,
   "id": "1ddce525-3964-4dd3-8267-12fc7f60e0d1",
   "metadata": {},
   "outputs": [],
   "source": [
    "Q3. What is an iterator in python? Name the method used to initialise the iterator object and the method\n",
    "used for iteration. Use these methods to print the first five elements of the given list [2, 4, 6, 8, 10, 12, 14,\n",
    "16, 18, 20].\n",
    "\n",
    "answer:\n",
    "In Python, an iterator is an object that represents a stream of data. It allows you to iterate over elements in a sequence, one at a time, without\n",
    "needing to know the internal structure of the sequence. Iterators provide a common interface for iterating over different types of data structures\n",
    "like lists, tuples, dictionaries, etc.\n",
    "\n",
    "The two essential methods associated with iterators are:\n",
    "\n",
    "iter(): This method is used to initialize an iterator object from an iterable object. It returns an iterator object that can be used to traverse \n",
    "the elements of the iterable.\n",
    "\n",
    "next(): This method is used to iterate through the elements of the iterator sequentially. It retrieves the next item from the iterator. \n",
    "When there are no more items left, it raises a StopIteration exception."
   ]
  },
  {
   "cell_type": "code",
   "execution_count": 3,
   "id": "073fd7e6-5013-482f-aaae-c2e199425e02",
   "metadata": {},
   "outputs": [
    {
     "name": "stdout",
     "output_type": "stream",
     "text": [
      "2\n",
      "4\n",
      "6\n",
      "8\n",
      "10\n"
     ]
    }
   ],
   "source": [
    "# Initialize the iterator object\n",
    "iterator = iter([2, 4, 6, 8, 10, 12, 14, 16, 18, 20])\n",
    "\n",
    "# Iterate through the first five elements\n",
    "for _ in range(5):\n",
    "    print(next(iterator))\n"
   ]
  },
  {
   "cell_type": "code",
   "execution_count": null,
   "id": "9f08e27e-3c6d-44a1-a9c4-b5c5fd5ea538",
   "metadata": {},
   "outputs": [],
   "source": [
    "Q4. What is a generator function in python? Why yield keyword is used? Give an example of a generator\n",
    "function.\n",
    "\n",
    "answer:\n",
    "\n",
    "A generator function in Python is a special type of function that allows you to generate a sequence of values over time, rather than computing them\n",
    "all at once and storing them in memory. Generator functions use the yield keyword instead of return to return values one at a time, allowing them to\n",
    "pause and resume their execution state. This makes them memory-efficient and suitable for generating large sequences or infinite sequences of values.\n",
    "\n",
    "The yield keyword is used to yield (or produce) a value from the generator function. When yield is encountered, the function's execution is paused,\n",
    "and the yielded value is returned to the caller. The state of the function is preserved, allowing it to resume execution later from the same point\n",
    "where it left off."
   ]
  },
  {
   "cell_type": "code",
   "execution_count": 4,
   "id": "0ffb9f19-31ab-4a1e-8fef-22a92cc6bb3f",
   "metadata": {},
   "outputs": [
    {
     "name": "stdout",
     "output_type": "stream",
     "text": [
      "0\n",
      "1\n",
      "4\n",
      "9\n",
      "16\n"
     ]
    }
   ],
   "source": [
    "def square_numbers(n):\n",
    "    for i in range(n):\n",
    "        yield i ** 2\n",
    "\n",
    "# Using the generator function\n",
    "generator = square_numbers(5)\n",
    "\n",
    "# Iterating over the generator to get square numbers\n",
    "for num in generator:\n",
    "    print(num)\n"
   ]
  },
  {
   "cell_type": "code",
   "execution_count": null,
   "id": "188f2fbb-2d17-4a0a-a3e3-599faeb0d7f0",
   "metadata": {},
   "outputs": [],
   "source": [
    "Q5. Create a generator function for prime numbers less than 1000. Use the next() method to print the\n",
    "first 20 prime numbers."
   ]
  },
  {
   "cell_type": "code",
   "execution_count": 5,
   "id": "136cf428-3ee7-4dce-9907-e7291a16f31f",
   "metadata": {},
   "outputs": [
    {
     "name": "stdout",
     "output_type": "stream",
     "text": [
      "2\n",
      "3\n",
      "5\n",
      "7\n",
      "11\n",
      "13\n",
      "17\n",
      "19\n",
      "23\n",
      "29\n",
      "31\n",
      "37\n",
      "41\n",
      "43\n",
      "47\n",
      "53\n",
      "59\n",
      "61\n",
      "67\n",
      "71\n"
     ]
    }
   ],
   "source": [
    "def generate_primes():\n",
    "    # Define a function to check if a number is prime\n",
    "    def is_prime(num):\n",
    "        if num <= 1:\n",
    "            return False\n",
    "        for i in range(2, int(num**0.5) + 1):\n",
    "            if num % i == 0:\n",
    "                return False\n",
    "        return True\n",
    "    \n",
    "    # Start yielding prime numbers\n",
    "    num = 2\n",
    "    while num < 1000:\n",
    "        if is_prime(num):\n",
    "            yield num\n",
    "        num += 1\n",
    "\n",
    "# Create a generator object\n",
    "prime_generator = generate_primes()\n",
    "\n",
    "# Print the first 20 prime numbers\n",
    "for _ in range(20):\n",
    "    print(next(prime_generator))\n"
   ]
  },
  {
   "cell_type": "code",
   "execution_count": null,
   "id": "5908f51d-9b79-467a-a476-57c891075ed0",
   "metadata": {},
   "outputs": [],
   "source": [
    "Q6. Write a python program to print the first 10 Fibonacci numbers using a while loop."
   ]
  },
  {
   "cell_type": "code",
   "execution_count": null,
   "id": "9247c288-dd11-407f-9a90-2cf867bfe9c3",
   "metadata": {},
   "outputs": [],
   "source": [
    "# Initialize the first two Fibonacci numbers\n",
    "fibonacci_numbers = [0, 1]\n",
    "\n",
    "# Set a counter for the while loop\n",
    "count = 2\n",
    "\n",
    "# While loop to generate Fibonacci numbers\n",
    "while count < 10:\n",
    "    # Calculate the next Fibonacci number by adding the last two numbers\n",
    "    next_number = fibonacci_numbers[-1] + fibonacci_numbers[-2]\n",
    "    \n",
    "    # Append the next Fibonacci number to the list\n",
    "    fibonacci_numbers.append(next_number)\n",
    "    \n",
    "    # Increment the counter\n",
    "    count += 1\n",
    "\n",
    "# Print the first 10 Fibonacci numbers\n",
    "print(\"The first 10 Fibonacci numbers are:\")\n",
    "for number in fibonacci_numbers:\n",
    "    print(number)\n"
   ]
  },
  {
   "cell_type": "code",
   "execution_count": null,
   "id": "36817513-85a7-4331-8971-030813953e7e",
   "metadata": {},
   "outputs": [],
   "source": [
    "Q7. Write a List Comprehension to iterate through the given string: ‘pwskills’.\n",
    "Expected output: ['p', 'w', 's', 'k', 'i', 'l', 'l', 's']"
   ]
  },
  {
   "cell_type": "code",
   "execution_count": 6,
   "id": "d819221c-27f4-484a-8ad0-330ae5d82dc2",
   "metadata": {},
   "outputs": [
    {
     "name": "stdout",
     "output_type": "stream",
     "text": [
      "['p', 'w', 's', 'k', 'i', 'l', 'l', 's']\n"
     ]
    }
   ],
   "source": [
    "string = 'pwskills'\n",
    "\n",
    "result = [char for char in string]\n",
    "\n",
    "print(result)\n"
   ]
  },
  {
   "cell_type": "code",
   "execution_count": null,
   "id": "81babe61-0a10-4ba1-a40d-dc871a464a77",
   "metadata": {},
   "outputs": [],
   "source": [
    "Q8. Write a python program to check whether a given number is Palindrome or not using a while loop."
   ]
  },
  {
   "cell_type": "code",
   "execution_count": 10,
   "id": "a480541b-c1d0-49ec-9c46-7f4e7eabcbdf",
   "metadata": {},
   "outputs": [
    {
     "name": "stdin",
     "output_type": "stream",
     "text": [
      "Enter a number to check if it's a palindrome:  12321\n"
     ]
    },
    {
     "name": "stdout",
     "output_type": "stream",
     "text": [
      "12321 is a palindrome.\n"
     ]
    }
   ],
   "source": [
    "def is_palindrome(num):\n",
    "    # Convert the number to a string\n",
    "    num_str = str(num)\n",
    "    \n",
    "    # Initialize left and right pointers\n",
    "    left = 0\n",
    "    right = len(num_str) - 1\n",
    "    \n",
    "    # Check if the number is a palindrome\n",
    "    while left < right:\n",
    "        if num_str[left] != num_str[right]:\n",
    "            return False\n",
    "        left += 1\n",
    "        right -= 1\n",
    "    return True\n",
    "\n",
    "# Test the function\n",
    "number = int(input(\"Enter a number to check if it's a palindrome: \"))\n",
    "if is_palindrome(number):\n",
    "    print(number, \"is a palindrome.\")\n",
    "else:\n",
    "    print(number, \"is not a palindrome.\")\n"
   ]
  },
  {
   "cell_type": "code",
   "execution_count": null,
   "id": "b7fe3d79-d853-44a3-985e-db0166d26d94",
   "metadata": {},
   "outputs": [],
   "source": [
    "Q9. Write a code to print odd numbers from 1 to 100 using list comprehension.\n",
    "Note: Use a list comprehension to create a list from 1 to 100 and use another List comprehension to filter\n",
    "out odd numbers."
   ]
  },
  {
   "cell_type": "code",
   "execution_count": 11,
   "id": "fabc317d-1c97-423f-a24b-0baf5a0571d8",
   "metadata": {},
   "outputs": [
    {
     "name": "stdout",
     "output_type": "stream",
     "text": [
      "Odd numbers from 1 to 100: [1, 3, 5, 7, 9, 11, 13, 15, 17, 19, 21, 23, 25, 27, 29, 31, 33, 35, 37, 39, 41, 43, 45, 47, 49, 51, 53, 55, 57, 59, 61, 63, 65, 67, 69, 71, 73, 75, 77, 79, 81, 83, 85, 87, 89, 91, 93, 95, 97, 99]\n"
     ]
    }
   ],
   "source": [
    "# List comprehension to create a list of numbers from 1 to 100\n",
    "numbers = [num for num in range(1, 101)]\n",
    "\n",
    "# List comprehension to filter out odd numbers\n",
    "odd_numbers = [num for num in numbers if num % 2 != 0]\n",
    "\n",
    "# Print the list of odd numbers\n",
    "print(\"Odd numbers from 1 to 100:\", odd_numbers)\n"
   ]
  },
  {
   "cell_type": "code",
   "execution_count": null,
   "id": "d6b4f310-64bb-4928-8adb-b7ea9865d1a3",
   "metadata": {},
   "outputs": [],
   "source": []
  }
 ],
 "metadata": {
  "kernelspec": {
   "display_name": "Python 3 (ipykernel)",
   "language": "python",
   "name": "python3"
  },
  "language_info": {
   "codemirror_mode": {
    "name": "ipython",
    "version": 3
   },
   "file_extension": ".py",
   "mimetype": "text/x-python",
   "name": "python",
   "nbconvert_exporter": "python",
   "pygments_lexer": "ipython3",
   "version": "3.11.7"
  }
 },
 "nbformat": 4,
 "nbformat_minor": 5
}
