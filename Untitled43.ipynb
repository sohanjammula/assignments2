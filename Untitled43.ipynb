{
 "cells": [
  {
   "cell_type": "markdown",
   "id": "f38bac32-4022-4928-981e-25a9b5d767fa",
   "metadata": {},
   "source": [
    "## [H Create a folder in which you want to create the project, after that use the git init and the necessary co\\\\ands to create the specific @it repositoryH"
   ]
  },
  {
   "cell_type": "markdown",
   "id": "9321a7cc-2241-4a27-8a4d-40eb3efd55cb",
   "metadata": {},
   "source": [
    "## ?H Create a separate environ\\ent so that you do not \\ess up with your base environ\\entH"
   ]
  },
  {
   "cell_type": "code",
   "execution_count": null,
   "id": "0d5342de-50cf-44b3-ac55-700c44e43b1e",
   "metadata": {},
   "outputs": [],
   "source": []
  }
 ],
 "metadata": {
  "kernelspec": {
   "display_name": "Python 3 (ipykernel)",
   "language": "python",
   "name": "python3"
  },
  "language_info": {
   "codemirror_mode": {
    "name": "ipython",
    "version": 3
   },
   "file_extension": ".py",
   "mimetype": "text/x-python",
   "name": "python",
   "nbconvert_exporter": "python",
   "pygments_lexer": "ipython3",
   "version": "3.11.7"
  }
 },
 "nbformat": 4,
 "nbformat_minor": 5
}
