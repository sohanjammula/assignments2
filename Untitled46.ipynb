{
 "cells": [
  {
   "cell_type": "markdown",
   "id": "ac161eb5-05cb-40d7-843a-2c9b189406fc",
   "metadata": {},
   "source": [
    "## Part 1: Theoretical Queltionk\n",
    "Tc What are the different data structures used in Tensorflow?. Give some examplesc\n",
    "Cc How does the TensorFlow constant differ from a TensorFlow variable? Explain with an examplec\n",
    "=c Describe the process of matrix addition, multiplication, and elementDwise operations in TensorFlow."
   ]
  },
  {
   "cell_type": "markdown",
   "id": "50c334b2-974e-4e85-8984-97e596c92fd7",
   "metadata": {},
   "source": [
    "**Different Data Structures in TensorFlow:**\n",
    "\n",
    "TensorFlow primarily uses tensors as its fundamental data structure. Tensors are multidimensional arrays that can represent scalars, vectors, matrices, or higher-dimensional data. Some of the commonly used data structures in TensorFlow include:\n",
    "\n",
    "1. **tf.Tensor:** The most fundamental data structure in TensorFlow, representing multi-dimensional arrays of numerical values. Tensors can have various data types, such as float32, int32, or bool.\n",
    "\n",
    "2. **tf.Variable:** Special type of tensor that persists across multiple calls to a function. Variables are typically used to represent model parameters that need to be optimized during training.\n",
    "\n",
    "3. **tf.Constant:** Another type of tensor whose value cannot change during execution. Constants are useful for representing fixed values or hyperparameters.\n",
    "\n",
    "Examples:\n",
    "- `tf.Tensor`: `tensor = tf.constant([[1, 2], [3, 4]])`\n",
    "- `tf.Variable`: `var = tf.Variable([1, 2, 3])`\n",
    "- `tf.Constant`: `const = tf.constant(5)`\n",
    "\n",
    "**Difference between TensorFlow Constant and Variable:**\n",
    "\n",
    "The main difference between TensorFlow constant and variable lies in their mutability:\n",
    "\n",
    "- **TensorFlow Constant:** Constants hold values that cannot be changed during program execution. Once defined, their values remain fixed.\n",
    "\n",
    "- **TensorFlow Variable:** Variables, on the other hand, represent mutable tensors whose values can be modified during the execution of the program, typically during optimization processes like training neural networks.\n",
    "\n",
    "Example:\n",
    "```python\n",
    "import tensorflow as tf\n",
    "\n",
    "# TensorFlow constant\n",
    "constant_tensor = tf.constant([1, 2, 3])\n",
    "\n",
    "# TensorFlow variable\n",
    "initial_value = [1, 2, 3]\n",
    "variable_tensor = tf.Variable(initial_value)\n",
    "\n",
    "# Updating the value of the variable\n",
    "variable_tensor.assign([4, 5, 6])\n"
   ]
  },
  {
   "cell_type": "code",
   "execution_count": 3,
   "id": "60d239da-7178-4a5f-bd6a-1b91b70c168f",
   "metadata": {
    "tags": []
   },
   "outputs": [],
   "source": [
    "import tensorflow as tf\n",
    "\n",
    "# Define matrices\n",
    "matrix1 = tf.constant([[1, 2], [3, 4]])\n",
    "matrix2 = tf.constant([[5, 6], [7, 8]])\n",
    "\n",
    "# Matrix addition\n",
    "result_add = tf.add(matrix1, matrix2)\n",
    "\n",
    "# Matrix multiplication\n",
    "result_multiply = tf.matmul(matrix1, matrix2)\n",
    "\n",
    "# Element-wise multiplication\n",
    "result_elementwise = tf.multiply(matrix1, matrix2)\n"
   ]
  },
  {
   "cell_type": "markdown",
   "id": "9d123370-51e9-4755-8d96-229dc1c392d0",
   "metadata": {},
   "source": [
    "## Part ®: Practical Implementation\n",
    "Talk 1: Creating and Manipulating Matricek\n",
    "Tc Create a normal matrix A with dimensions 2x2, using TensorFlow's random_normal function. Display the\n",
    "values of matrix Ac\n",
    "Cc Create a Gaussian matrix B with dimensions x, using TensorFlow's truncated_normal function. Display\n",
    "the values of matrix Bc\n",
    "=c Create a matrix C with dimensions 2x2, where the values are drawn from a normal distribution with a\n",
    "mean of 2 and a standard deviation of 0.x, using TensorFlow's random.normal function. Display the values\n",
    "of matrix Cc\n",
    "~c Perform matrix addition between matrix A and matrix B, and store the result in matrix Dc\n",
    "wc Perform matrix multiplication between matrix C and matrix D, and store the result in matrix E."
   ]
  },
  {
   "cell_type": "markdown",
   "id": "3a8dff79-6f93-41d0-84c2-4ad53cc2e1cc",
   "metadata": {},
   "source": [
    "**Talk 1: Creating and Manipulating Matrices**\n",
    "\n",
    "**Create a normal matrix A with dimensions 2x2, using TensorFlow's random_normal function. Display the values of matrix A:**\n",
    "\n",
    "```python\n",
    "import tensorflow as tf\n",
    "\n",
    "# Create a normal matrix A with dimensions 2x2\n",
    "A = tf.random.normal(shape=(2, 2))\n",
    "\n",
    "# Display the values of matrix A\n",
    "print(\"Matrix A:\")\n",
    "print(A.numpy())\n"
   ]
  },
  {
   "cell_type": "code",
   "execution_count": 15,
   "id": "8e3397cc-4162-44a8-8956-9ece480f0b58",
   "metadata": {
    "tags": []
   },
   "outputs": [
    {
     "name": "stdout",
     "output_type": "stream",
     "text": [
      "Matrix A:\n",
      "[[-0.02139988  0.39296252]\n",
      " [-0.96414155 -0.19418296]]\n"
     ]
    }
   ],
   "source": [
    "import tensorflow as tf\n",
    "\n",
    "# Create a normal matrix A with dimensions 2x2\n",
    "A = tf.random.normal(shape=(2, 2))\n",
    "\n",
    "# Display the values of matrix A\n",
    "print(\"Matrix A:\")\n",
    "print(A.numpy())"
   ]
  },
  {
   "cell_type": "code",
   "execution_count": 21,
   "id": "a7efeb9e-c2ec-4e98-9e07-6058269ce19f",
   "metadata": {
    "tags": []
   },
   "outputs": [
    {
     "name": "stdout",
     "output_type": "stream",
     "text": [
      "Matrix B:\n",
      "[[ 0.89977115 -0.43921155 -0.02887664]\n",
      " [-0.18470193 -0.67623734  0.78311175]\n",
      " [ 0.85483074  0.4461021  -0.59629947]]\n"
     ]
    }
   ],
   "source": [
    "# Define the dimensions of matrix B\n",
    "x = (3, 3)  # Example dimensions\n",
    "\n",
    "# Create a Gaussian matrix B with dimensions x\n",
    "B = tf.random.truncated_normal(shape=x)\n",
    "\n",
    "# Display the values of matrix B\n",
    "print(\"Matrix B:\")\n",
    "print(B.numpy())\n"
   ]
  },
  {
   "cell_type": "code",
   "execution_count": 23,
   "id": "bad88315-dc12-4e46-b156-a8232c29c053",
   "metadata": {
    "tags": []
   },
   "outputs": [
    {
     "name": "stdout",
     "output_type": "stream",
     "text": [
      "Matrix C:\n",
      "[[2.0346785 2.0142088]\n",
      " [2.0078218 1.8248372]]\n"
     ]
    }
   ],
   "source": [
    "# Create a matrix C with dimensions 2x2, mean=2, std deviation=0.x\n",
    "C = tf.random.normal(mean=2, stddev=0.1, shape=(2, 2))\n",
    "\n",
    "# Display the values of matrix C\n",
    "print(\"Matrix C:\")\n",
    "print(C.numpy())\n"
   ]
  },
  {
   "cell_type": "code",
   "execution_count": 36,
   "id": "48224e17-6b3e-4de0-944b-f519eaf88fb8",
   "metadata": {
    "tags": []
   },
   "outputs": [
    {
     "name": "stdout",
     "output_type": "stream",
     "text": [
      "Matrix D (Result of A + B):\n",
      "[[-1.4087048   0.9143645 ]\n",
      " [-1.0510355  -0.91674984]]\n"
     ]
    }
   ],
   "source": [
    "# Define the dimensions of matrix B to match matrix A\n",
    "B = tf.random.normal(shape=(2, 2))\n",
    "\n",
    "# Perform matrix addition between matrix A and matrix B\n",
    "D = tf.add(A, B)\n",
    "\n",
    "# Display the values of matrix D\n",
    "print(\"Matrix D (Result of A + B):\")\n",
    "print(D.numpy())\n"
   ]
  },
  {
   "cell_type": "code",
   "execution_count": 38,
   "id": "5b2ec2fc-5172-428e-849e-228f288c8e97",
   "metadata": {
    "tags": []
   },
   "outputs": [
    {
     "name": "stdout",
     "output_type": "stream",
     "text": [
      "Matrix E (Result of C * D):\n",
      "[[-4.9832664   0.0139122 ]\n",
      " [-4.746397    0.16296184]]\n"
     ]
    }
   ],
   "source": [
    "# Perform matrix multiplication between matrix C and matrix D\n",
    "E = tf.matmul(C, D)\n",
    "\n",
    "# Display the values of matrix E\n",
    "print(\"Matrix E (Result of C * D):\")\n",
    "print(E.numpy())\n"
   ]
  },
  {
   "cell_type": "code",
   "execution_count": null,
   "id": "55774731-0917-4dde-befc-9151daf4d499",
   "metadata": {},
   "outputs": [],
   "source": []
  },
  {
   "cell_type": "markdown",
   "id": "36050333-cde0-4407-8a61-024950b58374",
   "metadata": {},
   "source": [
    "**Talk 2: Performing Additional Matrix Operations**\n",
    "\n",
    "**Create a matrix F with dimensions 2x2, initialized with random values using TensorFlow's random_uniform function:**\n",
    "\n",
    "```python\n",
    "import tensorflow as tf\n",
    "\n",
    "# Create a matrix F with dimensions 2x2, initialized with random values\n",
    "F = tf.random.uniform(shape=(2, 2))\n",
    "\n",
    "# Display the values of matrix F\n",
    "print(\"Matrix F:\")\n",
    "print(F.numpy())\n"
   ]
  },
  {
   "cell_type": "code",
   "execution_count": 47,
   "id": "de1ce933-a0c3-485d-a9be-02ca672e2baa",
   "metadata": {
    "tags": []
   },
   "outputs": [
    {
     "name": "stdout",
     "output_type": "stream",
     "text": [
      "Matrix F:\n",
      "[[0.24196136 0.3055606 ]\n",
      " [0.03421009 0.64272356]]\n"
     ]
    }
   ],
   "source": [
    "import tensorflow as tf\n",
    "\n",
    "# Create a matrix F with dimensions 2x2, initialized with random values\n",
    "F = tf.random.uniform(shape=(2, 2))\n",
    "\n",
    "# Display the values of matrix F\n",
    "print(\"Matrix F:\")\n",
    "print(F.numpy())"
   ]
  },
  {
   "cell_type": "code",
   "execution_count": 48,
   "id": "c525e920-6935-4af3-9f4b-04ca9a6a7a33",
   "metadata": {
    "tags": []
   },
   "outputs": [
    {
     "name": "stdout",
     "output_type": "stream",
     "text": [
      "Matrix G (Transpose of F):\n",
      "[[0.24196136 0.03421009]\n",
      " [0.3055606  0.64272356]]\n"
     ]
    }
   ],
   "source": [
    "# Calculate the transpose of matrix F\n",
    "G = tf.transpose(F)\n",
    "\n",
    "# Display the values of matrix G\n",
    "print(\"Matrix G (Transpose of F):\")\n",
    "print(G.numpy())\n"
   ]
  },
  {
   "cell_type": "code",
   "execution_count": 51,
   "id": "ac43d6d4-6cbc-417d-8013-cd8c99fc3b8c",
   "metadata": {
    "tags": []
   },
   "outputs": [
    {
     "name": "stdout",
     "output_type": "stream",
     "text": [
      "Matrix H (Element-wise Exponential of F):\n",
      "[[1.273745  1.3573858]\n",
      " [1.034802  1.901653 ]]\n"
     ]
    }
   ],
   "source": [
    "# Calculate the element-wise exponential of matrix F\n",
    "H = tf.exp(F)\n",
    "\n",
    "# Display the values of matrix H\n",
    "print(\"Matrix H (Element-wise Exponential of F):\")\n",
    "print(H.numpy())\n"
   ]
  },
  {
   "cell_type": "code",
   "execution_count": 53,
   "id": "541f8b95-26aa-4d96-a0f6-a6ca0af48463",
   "metadata": {
    "tags": []
   },
   "outputs": [
    {
     "name": "stdout",
     "output_type": "stream",
     "text": [
      "Matrix I (Concatenation of F and G horizontally):\n",
      "[[0.24196136 0.3055606  0.24196136 0.03421009]\n",
      " [0.03421009 0.64272356 0.3055606  0.64272356]]\n"
     ]
    }
   ],
   "source": [
    "# Create a matrix I by concatenating matrix F and matrix G horizontally\n",
    "I = tf.concat([F, G], axis=1)\n",
    "\n",
    "# Display the values of matrix I\n",
    "print(\"Matrix I (Concatenation of F and G horizontally):\")\n",
    "print(I.numpy())\n"
   ]
  },
  {
   "cell_type": "code",
   "execution_count": 55,
   "id": "ae17e062-2130-4995-bbe1-1805800997bb",
   "metadata": {
    "tags": []
   },
   "outputs": [
    {
     "name": "stdout",
     "output_type": "stream",
     "text": [
      "Matrix J (Concatenation of F and H vertically):\n",
      "[[0.24196136 0.3055606 ]\n",
      " [0.03421009 0.64272356]\n",
      " [1.273745   1.3573858 ]\n",
      " [1.034802   1.901653  ]]\n"
     ]
    }
   ],
   "source": [
    "# Create a matrix J by concatenating matrix F and matrix H vertically\n",
    "J = tf.concat([F, H], axis=0)\n",
    "\n",
    "# Display the values of matrix J\n",
    "print(\"Matrix J (Concatenation of F and H vertically):\")\n",
    "print(J.numpy())\n"
   ]
  },
  {
   "cell_type": "code",
   "execution_count": null,
   "id": "62107477-11e4-44cf-ae24-a793cd4edf8a",
   "metadata": {},
   "outputs": [],
   "source": []
  }
 ],
 "metadata": {
  "kernelspec": {
   "display_name": "Python 3 (ipykernel)",
   "language": "python",
   "name": "python3"
  },
  "language_info": {
   "codemirror_mode": {
    "name": "ipython",
    "version": 3
   },
   "file_extension": ".py",
   "mimetype": "text/x-python",
   "name": "python",
   "nbconvert_exporter": "python",
   "pygments_lexer": "ipython3",
   "version": "3.11.7"
  }
 },
 "nbformat": 4,
 "nbformat_minor": 5
}
