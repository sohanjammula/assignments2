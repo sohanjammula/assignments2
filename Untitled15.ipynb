{
 "cells": [
  {
   "cell_type": "code",
   "execution_count": null,
   "id": "92d76ede-b552-4e0b-82e3-77c524995d4f",
   "metadata": {},
   "outputs": [],
   "source": [
    "Q1: What is Estimation Statistics? Explain point estimate and interval estimate."
   ]
  },
  {
   "cell_type": "code",
   "execution_count": null,
   "id": "7256b7f8-7938-4883-a8e2-26230f75d187",
   "metadata": {},
   "outputs": [],
   "source": [
    "\n",
    "Estimation statistics is a branch of statistics concerned with estimating population parameters based on sample data. It involves making\n",
    "educated guesses or estimates about characteristics of a population using information obtained from a sample drawn from that population.\n",
    "\n",
    "Point Estimate: A point estimate is a single value, typically calculated from sample data, that serves as the best guess for the true value of a \n",
    "population parameter. For example, the sample mean is often used as a point estimate for the population mean, and the sample proportion is used as a \n",
    "    point estimate for the population proportion. \n",
    "    Point estimates provide a convenient summary of the available data but may not capture the uncertainty inherent in the estimation process.\n",
    "Interval Estimate: An interval estimate provides a range of values within which the true value of a population parameter is likely to lie, along with a \n",
    "level of confidence associated with that range. This range is called a confidence interval. It is constructed using the point estimate and the standard \n",
    "error of the estimate, which captures the variability or uncertainty in the estimation process. The confidence level indicates the probability that the \n",
    "true parameter lies within the interval. Common confidence levels include 90%, 95%, and 99%. For instance, a 95% confidence interval for the population \n",
    "mean indicates that there is a 95% probability that the true population mean falls within the specified interval. Confidence intervals offer a more \n",
    "informative understanding of the uncertainty associated with the estimation process compared to point estimates alone."
   ]
  },
  {
   "cell_type": "code",
   "execution_count": null,
   "id": "32c6e5ce-0989-4c50-b2a5-23557f6d1a01",
   "metadata": {},
   "outputs": [],
   "source": [
    "Q2. Write a Python function to estimate the population mean using a sample mean and standard\n",
    "deviation."
   ]
  },
  {
   "cell_type": "code",
   "execution_count": 1,
   "id": "da2fc02f-46d2-409f-aafd-142796c19744",
   "metadata": {},
   "outputs": [
    {
     "name": "stdout",
     "output_type": "stream",
     "text": [
      "Estimated population mean (95% confidence interval): (48.04, 51.96)\n"
     ]
    }
   ],
   "source": [
    "def estimate_population_mean(sample_mean, sample_std_dev, sample_size):\n",
    "    \"\"\"\n",
    "    Estimate the population mean using sample mean and standard deviation.\n",
    "    \n",
    "    Parameters:\n",
    "        sample_mean (float): The mean of the sample.\n",
    "        sample_std_dev (float): The standard deviation of the sample.\n",
    "        sample_size (int): The size of the sample.\n",
    "    \n",
    "    Returns:\n",
    "        float: Estimated population mean.\n",
    "    \"\"\"\n",
    "    import math\n",
    "    \n",
    "    # Calculate the standard error (standard deviation of the sampling distribution)\n",
    "    standard_error = sample_std_dev / math.sqrt(sample_size)\n",
    "    \n",
    "    # Calculate the margin of error (usually used to construct confidence intervals)\n",
    "    margin_of_error = 1.96 * standard_error  # Using the 95% confidence level (Z-score of 1.96)\n",
    "    \n",
    "    # Estimate the population mean (using the sample mean and the margin of error)\n",
    "    population_mean_lower_bound = sample_mean - margin_of_error\n",
    "    population_mean_upper_bound = sample_mean + margin_of_error\n",
    "    \n",
    "    # Return the estimated population mean\n",
    "    return (population_mean_lower_bound, population_mean_upper_bound)\n",
    "\n",
    "# Example usage:\n",
    "sample_mean = 50\n",
    "sample_std_dev = 10\n",
    "sample_size = 100\n",
    "\n",
    "population_mean_estimate = estimate_population_mean(sample_mean, sample_std_dev, sample_size)\n",
    "print(\"Estimated population mean (95% confidence interval):\", population_mean_estimate)"
   ]
  },
  {
   "cell_type": "code",
   "execution_count": null,
   "id": "e5efaa77-807f-45b0-ae1d-e694ea82c689",
   "metadata": {},
   "outputs": [],
   "source": [
    "Q3: What is Hypothesis testing? Why is it used? State the importance of Hypothesis testing."
   ]
  },
  {
   "cell_type": "code",
   "execution_count": null,
   "id": "58261328-f314-43e7-afcf-d58bab50c3c9",
   "metadata": {},
   "outputs": [],
   "source": [
    "Hypothesis testing is a statistical method used to make inferences about a population based on sample data. It involves evaluating two mutually \n",
    "exclusive hypotheses about a population parameter: the null hypothesis (H0) and the alternative hypothesis (H1 or Ha). The null hypothesis typically\n",
    "represents a default or baseline assumption, while the alternative hypothesis represents a different or contradictory assertion.\n",
    "\n",
    "The process of hypothesis testing involves the following steps:\n",
    "\n",
    "Formulating Hypotheses: Clearly state the null hypothesis (H0) and the alternative hypothesis (H1 or Ha) based on the research question or problem.\n",
    "Selecting a Significance Level: Choose a significance level (alpha, usually denoted by α) to determine the threshold for accepting or rejecting the \n",
    "null hypothesis. Commonly used significance levels include 0.05 (5%) and 0.01 (1%).\n",
    "Collecting Data and Performing Statistical Analysis: Collect sample data and use appropriate statistical tests to analyze the data and calculate test\n",
    "            statistics, such as t-test, z-test, chi-square test, etc., depending on the type of data and hypotheses being tested.\n",
    "Making a Decision: Compare the calculated test statistic to the critical value(s) from the appropriate statistical distribution or determine \n",
    "                the p-value. If the test statistic falls within the critical region or if the p-value is less than the significance level,\n",
    "            reject the null hypothesis; otherwise, fail to reject the null hypothesis.\n",
    "Drawing Conclusion: Based on the decision made in the previous step, draw conclusions about the population parameter being tested.\n",
    "Hypothesis testing is used for various purposes in research, science, and decision-making processes:\n",
    "\n",
    "Inference: Hypothesis testing allows researchers to draw conclusions about population parameters based on sample data, providing a way to generalize\n",
    "        findings from a sample to a larger population.\n",
    "Decision-making: It helps in making decisions in various fields, including medicine, business, engineering, and social sciences, by providing evidence\n",
    "                for or against certain claims or hypotheses.\n",
    "Validity and Reliability: By rigorously testing hypotheses, researchers can ensure the validity and reliability of their findings, enhancing the\n",
    "                credibility of research studies.\n",
    "Problem-solving: Hypothesis testing provides a systematic framework for addressing research questions or problems, guiding researchers in formulating\n",
    "                and testing hypotheses to answer specific inquiries.\n",
    "In summary, hypothesis testing is a fundamental statistical technique used to assess the validity of claims or hypotheses about population parameters,\n",
    "            enabling researchers to make informed decisions and draw reliable conclusions based on empirical evidence.\n",
    "\n"
   ]
  },
  {
   "cell_type": "code",
   "execution_count": null,
   "id": "c1325234-d39a-4527-ba5e-a4b6ba06da64",
   "metadata": {},
   "outputs": [],
   "source": [
    "Q4. Create a hypothesis that states whether the average weight of male college students is greater than\n",
    "the average weight of female college students."
   ]
  },
  {
   "cell_type": "code",
   "execution_count": null,
   "id": "462712d7-6306-410a-89cc-c3452e161f0c",
   "metadata": {},
   "outputs": [],
   "source": [
    "Null Hypothesis (H0): The average weight of male college students is equal to or less than the average weight of female college students.\n",
    "\n",
    "Alternative Hypothesis (H1 or Ha): The average weight of male college students is greater than the average weight of female college students.\n",
    "\n",
    "Symbolically:\n",
    "\n",
    "H0: μ_male <= μ_female\n",
    "\n",
    "Ha: μ_male > μ_female\n",
    "\n",
    "In words, the null hypothesis suggests that there is no difference or that male college students weigh the same as or less than \n",
    "female college students, while the alternative hypothesis suggests that male college students weigh more on average than female college students.\n"
   ]
  },
  {
   "cell_type": "code",
   "execution_count": null,
   "id": "76b38daf-132b-4709-9b00-6fb22c75cfb9",
   "metadata": {},
   "outputs": [],
   "source": [
    "Q5. Write a Python script to conduct a hypothesis test on the difference between two population means,\n",
    "given a sample from each population."
   ]
  },
  {
   "cell_type": "code",
   "execution_count": 2,
   "id": "b7932d2b-23c8-4fd6-9352-bd66aa3a03e1",
   "metadata": {},
   "outputs": [
    {
     "name": "stdout",
     "output_type": "stream",
     "text": [
      "Results of two-sample t-test:\n",
      "t-statistic: 3.348631561299832\n",
      "p-value: 0.01010080262120536\n",
      "Reject the null hypothesis at alpha = 0.05 level\n"
     ]
    }
   ],
   "source": [
    "import numpy as np\n",
    "from scipy.stats import ttest_ind\n",
    "\n",
    "def two_sample_t_test(sample1, sample2, alpha=0.05):\n",
    "    \"\"\"\n",
    "    Perform a two-sample t-test to compare the means of two populations.\n",
    "\n",
    "    Parameters:\n",
    "        sample1 (array-like): Sample data from the first population.\n",
    "        sample2 (array-like): Sample data from the second population.\n",
    "        alpha (float): Significance level (default is 0.05).\n",
    "\n",
    "    Returns:\n",
    "        float: t-statistic\n",
    "        float: p-value\n",
    "        bool: Whether to reject the null hypothesis\n",
    "    \"\"\"\n",
    "    t_statistic, p_value = ttest_ind(sample1, sample2, equal_var=True)\n",
    "    reject_null = p_value < alpha\n",
    "    return t_statistic, p_value, reject_null\n",
    "\n",
    "# Example usage:\n",
    "sample1 = np.array([72, 68, 65, 71, 70])  # Sample from population 1 (e.g., male college students)\n",
    "sample2 = np.array([65, 63, 60, 67, 62])  # Sample from population 2 (e.g., female college students)\n",
    "\n",
    "t_statistic, p_value, reject_null = two_sample_t_test(sample1, sample2)\n",
    "\n",
    "print(\"Results of two-sample t-test:\")\n",
    "print(\"t-statistic:\", t_statistic)\n",
    "print(\"p-value:\", p_value)\n",
    "if reject_null:\n",
    "    print(\"Reject the null hypothesis at alpha = 0.05 level\")\n",
    "else:\n",
    "    print(\"Fail to reject the null hypothesis at alpha = 0.05 level\")\n"
   ]
  },
  {
   "cell_type": "code",
   "execution_count": null,
   "id": "136ce88b-8ed6-4088-9b39-4732449bd386",
   "metadata": {},
   "outputs": [],
   "source": [
    "Q6: What is a null and alternative hypothesis? Give some examples."
   ]
  },
  {
   "cell_type": "code",
   "execution_count": null,
   "id": "3888dc5e-3077-4684-8754-468abd734733",
   "metadata": {},
   "outputs": [],
   "source": [
    "\n",
    "The null hypothesis (H0) and alternative hypothesis (H1 or Ha) are statements about population parameters that are tested using statistical methods. \n",
    "They represent competing assertions about the characteristics of a population or the relationship between variables. In hypothesis testing, the null\n",
    "hypothesis is typically the default assumption, while the alternative hypothesis represents a different or contradictory assertion.\n",
    "\n",
    "Here are examples of null and alternative hypotheses:\n",
    "\n",
    "Example: Drug Efficacy\n",
    "Null Hypothesis (H0): The mean effectiveness of a new drug is equal to the mean effectiveness of the current standard treatment.\n",
    "Alternative Hypothesis (Ha): The mean effectiveness of the new drug is greater than the mean effectiveness of the current standard treatment.\n",
    "Example: Gender Bias\n",
    "Null Hypothesis (H0): There is no difference in the average salaries between male and female employees in the company.\n",
    "Alternative Hypothesis (Ha): Female employees earn less on average than male employees in the company."
   ]
  },
  {
   "cell_type": "code",
   "execution_count": null,
   "id": "74734438-d6d1-46c5-a85e-a8b2169eea4a",
   "metadata": {},
   "outputs": [],
   "source": [
    "Q7: Write down the steps involved in hypothesis testing."
   ]
  },
  {
   "cell_type": "code",
   "execution_count": null,
   "id": "65c596e9-0fce-4c2b-baa3-fa143ddfcfac",
   "metadata": {},
   "outputs": [],
   "source": [
    "Formulate Hypotheses:\n",
    "State the null hypothesis (H0) and the alternative hypothesis (H1 or Ha) based on the research question or problem. The null hypothesis typically \n",
    "represents a default assumption or no effect, while the alternative hypothesis represents a different or contradictory assertion that the researcher\n",
    "wants to test.\n",
    "Choose a Significance Level:\n",
    "Select a significance level (alpha, usually denoted by α) to determine the threshold for accepting or rejecting the null hypothesis. Commonly used \n",
    "significance levels include 0.05 (5%) and 0.01 (1%).\n",
    "Select a Statistical Test:\n",
    "Choose an appropriate statistical test based on the research question, data type, and assumptions. Common tests include t-test, z-test, \n",
    "                                                chi-square test, ANOVA, etc.\n",
    "Collect Data:\n",
    "Collect sample data from the population of interest. Ensure that the data collection process is unbiased and representative of the population.\n",
    "Calculate Test Statistic:\n",
    "Compute the test statistic based on the sample data and the chosen statistical test. The test statistic measures the difference between the observed \n",
    "                                                data and what would be expected under the null hypothesis.\n",
    "Determine Critical Value or P-value:\n",
    "Determine the critical value(s) from the appropriate statistical distribution or calculate the p-value associated with the test statistic. \n",
    "                                                The critical value(s) represent the cutoff point beyond which the null hypothesis is rejected.\n",
    "                                                The p-value indicates the probability of obtaining the observed data or more extreme results if \n",
    "                                                the null hypothesis is true.\n",
    "Make a Decision:\n",
    "Compare the calculated test statistic to the critical value(s) or compare the p-value to the significance level (α). If the test statistic falls within\n",
    "                the critical region or if the p-value is less than α, reject the null hypothesis; otherwise, fail to reject the null hypothesis.\n",
    "Draw Conclusion:\n",
    "Based on the decision made in the previous step, draw conclusions about the population parameter being tested. If the null hypothesis is rejected, \n",
    "support the alternative hypothesis; if the null hypothesis is not rejected, there is insufficient evidence to support the alternative hypothesis.\n",
    "Interpret Results:\n",
    "Interpret the results of the hypothesis test in the context of the research question or problem. Consider the implications of the findings and their \n",
    "relevance to the broader field of study.\n",
    "Report Findings:\n",
    "Report the findings of the hypothesis test, including the test statistic, p-value, conclusion, and any relevant details, in a clear and concise manner. \n",
    "Communicate the implications of the results and any recommendations for future research or action."
   ]
  },
  {
   "cell_type": "code",
   "execution_count": null,
   "id": "cb8f976e-e855-42c4-9232-2631eb87de82",
   "metadata": {},
   "outputs": [],
   "source": [
    "Q8. Define p-value and explain its significance in hypothesis testing."
   ]
  },
  {
   "cell_type": "code",
   "execution_count": null,
   "id": "2d3cbba9-4792-472a-b8d5-bce982a64fd4",
   "metadata": {},
   "outputs": [],
   "source": [
    "The p-value, or probability value, is a measure that helps determine the strength of the evidence against the null hypothesis in hypothesis testing. \n",
    "It quantifies the probability of obtaining the observed data, or more extreme results, if the null hypothesis is true. In other words, the p-value \n",
    "indicates the likelihood of observing the observed data, or more extreme data, under the assumption that the null hypothesis is correct.\n",
    "\n",
    "Here's an explanation of the significance of the p-value in hypothesis testing:\n",
    "\n",
    "Interpretation:\n",
    "If the p-value is small (typically less than the chosen significance level, α), it suggests that the observed data is unlikely to have occurred by \n",
    "random chance alone if the null hypothesis is true. In this case, there is strong evidence against the null hypothesis, and it may be rejected in \n",
    "favor of the alternative hypothesis.\n",
    "If the p-value is large (greater than or equal to α), it suggests that the observed data is reasonably likely to have occurred even if the null \n",
    "hypothesis is true. In this case, there is insufficient evidence to reject the null hypothesis, and it may be retained.\n",
    "Decision Rule:\n",
    "In hypothesis testing, a common decision rule is to compare the p-value to the chosen significance level (α). If the p-value is less than α, the \n",
    "    null hypothesis is rejected; if the p-value is greater than or equal to α, the null hypothesis is not rejected.\n",
    "The significance level (α) is typically set at 0.05 (5%) or 0.01 (1%), representing the threshold for rejecting the null hypothesis. However, the \n",
    "choice of significance level depends on the specific context and the consequences of Type I and Type II errors.\n",
    "Degree of Confidence:\n",
    "The p-value provides a measure of the strength of evidence against the null hypothesis. A smaller p-value indicates stronger evidence against the \n",
    "    null hypothesis, leading to greater confidence in the conclusions drawn from the hypothesis test.\n",
    "Conversely, a larger p-value suggests weaker evidence against the null hypothesis, resulting in less confidence in the conclusions drawn.\n",
    "Not a Direct Probability:\n",
    "It's essential to note that the p-value is not the probability that the null hypothesis is true or false. Instead, it quantifies the probability of \n",
    "    observing the data, or more extreme data, assuming that the null hypothesis is true"
   ]
  },
  {
   "cell_type": "code",
   "execution_count": null,
   "id": "8cd8c01a-ff93-45d4-882c-1d32fc458f54",
   "metadata": {},
   "outputs": [],
   "source": [
    "Q9. Generate a Student's t-distribution plot using Python's matplotlib library, with the degrees of freedom\n",
    "parameter set to 10."
   ]
  },
  {
   "cell_type": "code",
   "execution_count": 3,
   "id": "43ba7422-172b-4007-bb0e-15cf31beaaa3",
   "metadata": {},
   "outputs": [
    {
     "data": {
      "image/png": "[encoded data removed]",
      "text/plain": [
       "<Figure size 800x600 with 1 Axes>"
      ]
     },
     "metadata": {},
     "output_type": "display_data"
    }
   ],
   "source": [
    "import numpy as np\n",
    "import matplotlib.pyplot as plt\n",
    "from scipy.stats import t\n",
    "\n",
    "# Define degrees of freedom\n",
    "df = 10\n",
    "\n",
    "# Generate x values for plotting\n",
    "x = np.linspace(-4, 4, 1000)\n",
    "\n",
    "# Calculate probability density function (PDF) values for the t-distribution\n",
    "pdf = t.pdf(x, df)\n",
    "\n",
    "# Plot the t-distribution\n",
    "plt.figure(figsize=(8, 6))\n",
    "plt.plot(x, pdf, label=f'Student\\'s t-distribution (df={df})', color='blue')\n",
    "\n",
    "# Add labels and title\n",
    "plt.xlabel('x')\n",
    "plt.ylabel('Probability Density')\n",
    "plt.title('Student\\'s t-Distribution Plot')\n",
    "\n",
    "# Add grid and legend\n",
    "plt.grid(True)\n",
    "plt.legend()\n",
    "\n",
    "# Show plot\n",
    "plt.show()\n"
   ]
  },
  {
   "cell_type": "code",
   "execution_count": null,
   "id": "3977f518-4d96-4e38-bca2-de2f9a067b04",
   "metadata": {},
   "outputs": [],
   "source": [
    "Q10. Write a Python program to calculate the two-sample t-test for independent samples, given two\n",
    "random samples of equal size and a null hypothesis that the population means are equal."
   ]
  },
  {
   "cell_type": "code",
   "execution_count": 4,
   "id": "4245b934-2727-4adf-a034-af129c6a5e64",
   "metadata": {},
   "outputs": [
    {
     "name": "stdout",
     "output_type": "stream",
     "text": [
      "Results of two-sample t-test:\n",
      "t-statistic: -3.9970359039971965\n",
      "p-value: 0.00012432741067851485\n"
     ]
    }
   ],
   "source": [
    "import numpy as np\n",
    "from scipy.stats import ttest_ind\n",
    "\n",
    "def two_sample_t_test(sample1, sample2):\n",
    "    \"\"\"\n",
    "    Perform a two-sample t-test for independent samples assuming equal variances.\n",
    "\n",
    "    Parameters:\n",
    "        sample1 (array-like): Sample data from the first population.\n",
    "        sample2 (array-like): Sample data from the second population.\n",
    "\n",
    "    Returns:\n",
    "        float: t-statistic\n",
    "        float: p-value\n",
    "    \"\"\"\n",
    "    t_statistic, p_value = ttest_ind(sample1, sample2, equal_var=True)\n",
    "    return t_statistic, p_value\n",
    "\n",
    "# Generate two random samples of equal size\n",
    "sample_size = 50\n",
    "sample1 = np.random.normal(loc=50, scale=10, size=sample_size)  # Example sample 1 (mean=50, std=10)\n",
    "sample2 = np.random.normal(loc=55, scale=10, size=sample_size)  # Example sample 2 (mean=55, std=10)\n",
    "\n",
    "# Perform two-sample t-test\n",
    "t_statistic, p_value = two_sample_t_test(sample1, sample2)\n",
    "\n",
    "# Display results\n",
    "print(\"Results of two-sample t-test:\")\n",
    "print(\"t-statistic:\", t_statistic)\n",
    "print(\"p-value:\", p_value)\n"
   ]
  },
  {
   "cell_type": "code",
   "execution_count": null,
   "id": "ed5ed85f-ef78-46e7-b445-0c4b66949b9d",
   "metadata": {},
   "outputs": [],
   "source": [
    "Q11: What is Student’s t distribution? When to use the t-Distribution."
   ]
  },
  {
   "cell_type": "code",
   "execution_count": null,
   "id": "e6b077d4-cc75-4a3b-af86-13260e72dd6b",
   "metadata": {},
   "outputs": [],
   "source": [
    "Student's t-distribution, often referred to simply as the t-distribution, is a probability distribution that arises when estimating the population mean\n",
    "of a normally distributed population when the sample size is small or when the population standard deviation is unknown. It is named after William \n",
    "Sealy Gosset, who published under the pseudonym \"Student.\"\n",
    "\n",
    "The t-distribution is similar in shape to the standard normal distribution (bell-shaped and symmetric around the mean) but has heavier tails, meaning \n",
    "it has more probability in the tails compared to the standard normal distribution. As the sample size increases, the t-distribution approaches the \n",
    "standard normal distribution.\n",
    "\n",
    "The t-distribution is characterized by a single parameter called degrees of freedom (df). The degrees of freedom represent the number of independent\n",
    "observations used to estimate a parameter. For a t-distribution, the degrees of freedom determine the shape of the distribution. As the degrees of \n",
    "freedom increase, the t-distribution becomes more similar to the standard normal distribution.\n",
    "\n",
    "When to use the t-Distribution:\n",
    "\n",
    "Small Sample Sizes: When dealing with small sample sizes (typically less than 30), the t-distribution is more appropriate than the normal distribution \n",
    "for estimating population parameters, especially the population mean.\n",
    "Unknown Population Standard Deviation: When the population standard deviation is unknown and must be estimated from the sample standard deviation, the\n",
    "t-distribution should be used for hypothesis testing and confidence interval estimation.\n",
    "Estimating Confidence Intervals: When estimating confidence intervals for population parameters (e.g., population mean), especially with small sample\n",
    "                                                           sizes, the t-distribution is used instead of the standard normal distribution.\n",
    "Comparing Means: When comparing the means of two independent samples, the t-test is used, which assumes that the population follows a normal \n",
    "            distribution and uses the t-distribution to account for the variability in small sample sizes."
   ]
  },
  {
   "cell_type": "code",
   "execution_count": null,
   "id": "efd08d52-28a0-472a-b0d3-7f1850d02e28",
   "metadata": {},
   "outputs": [],
   "source": [
    "Q12: What is t-statistic? State the formula for t-statistic."
   ]
  },
  {
   "cell_type": "code",
   "execution_count": null,
   "id": "da3bc06c-2e5b-439e-bb64-e226c81e64a3",
   "metadata": {},
   "outputs": [],
   "source": [
    "The t-statistic is a measure used in hypothesis testing to assess whether the means of two groups are statistically different from each other or to \n",
    "determine if a sample mean is significantly different from a population mean. It quantifies the difference between sample means relative to the \n",
    "variability within the samples.\n",
    "\n",
    "The formula for the t-statistic depends on the context in which it is used. Here are the formulas for commonly used scenarios:\n",
    "\n",
    "One-sample t-test:\n",
    "Used to test whether the mean of a single sample differs significantly from a known or hypothesized population mean.\n",
    "\n",
    "Independent two-sample t-test:\n",
    "Used to compare the means of two independent samples to determine if they are significantly different from each other.\n",
    "\n",
    "Paired (dependent) two-sample t-test:\n",
    "Used to compare the means of two paired samples (e.g., before and after measurements) to determine if they are significantly different from each other.\n",
    "\n",
    "In all cases, the t-statistic measures the difference between sample means relative to the variability within the samples. A larger absolute value of \n",
    "                the t-statistic indicates a greater difference between means and suggests stronger evidence against the null hypothesis.\n"
   ]
  },
  {
   "cell_type": "code",
   "execution_count": null,
   "id": "af0c89e1-cebe-4247-9c64-c0ca43a15c6c",
   "metadata": {},
   "outputs": [],
   "source": [
    "Q13. A coffee shop owner wants to estimate the average daily revenue for their shop. They take a random\n",
    "sample of 50 days and find the sample mean revenue to be $500 with a standard deviation of $50.\n",
    "Estimate the population mean revenue with a 95% confidence interval."
   ]
  },
  {
   "cell_type": "code",
   "execution_count": null,
   "id": "2a8154d2-59e9-4ddd-b6f5-b13f17e6b803",
   "metadata": {},
   "outputs": [],
   "source": [
    "95% Confidence Interval for the population mean revenue:\n",
    "Lower bound: 491.91155104978936\n",
    "Upper bound: 508.08844895021064"
   ]
  },
  {
   "cell_type": "code",
   "execution_count": null,
   "id": "c8603be4-f622-493e-8046-ed922775dd78",
   "metadata": {},
   "outputs": [],
   "source": [
    "Q14. A researcher hypothesizes that a new drug will decrease blood pressure by 10 mmHg. They conduct a\n",
    "clinical trial with 100 patients and find that the sample mean decrease in blood pressure is 8 mmHg with a\n",
    "standard deviation of 3 mmHg. Test the hypothesis with a significance level of 0.05."
   ]
  },
  {
   "cell_type": "code",
   "execution_count": null,
   "id": "03c4e662-df8e-48b6-ac3f-624099ba0030",
   "metadata": {},
   "outputs": [],
   "source": [
    "Fail to reject the null hypothesis. There is not enough evidence to support the alternative hypothesis."
   ]
  },
  {
   "cell_type": "code",
   "execution_count": null,
   "id": "27110b0d-640c-49ea-a4a4-f4d3db1b8666",
   "metadata": {},
   "outputs": [],
   "source": [
    "Q15. An electronics company produces a certain type of product with a mean weight of 5 pounds and a\n",
    "standard deviation of 0.5 pounds. A random sample of 25 products is taken, and the sample mean weight\n",
    "is found to be 4.8 pounds. Test the hypothesis that the true mean weight of the products is less than 5\n",
    "pounds with a significance level of 0.01."
   ]
  },
  {
   "cell_type": "code",
   "execution_count": null,
   "id": "01a82054-0acb-45b2-9af1-73a8eeb4a6d1",
   "metadata": {},
   "outputs": [],
   "source": [
    "Reject the null hypothesis. There is evidence to support the alternative hypothesis."
   ]
  },
  {
   "cell_type": "code",
   "execution_count": null,
   "id": "b125c25b-2374-4ed2-a807-d8cf951094be",
   "metadata": {},
   "outputs": [],
   "source": [
    "Q16. Two groups of students are given different study materials to prepare for a test. The first group (n1 =\n",
    "30) has a mean score of 80 with a standard deviation of 10, and the second group (n2 = 40) has a mean\n",
    "score of 75 with a standard deviation of 8. Test the hypothesis that the population means for the two\n",
    "groups are equal with a significance level of 0.01."
   ]
  },
  {
   "cell_type": "code",
   "execution_count": null,
   "id": "174f4ed3-ad33-40cd-a632-9e201fc3f453",
   "metadata": {},
   "outputs": [],
   "source": [
    "Reject the null hypothesis. There is evidence to support the alternative hypothesis."
   ]
  },
  {
   "cell_type": "code",
   "execution_count": null,
   "id": "19357b67-1661-4730-814a-00630e13b58a",
   "metadata": {},
   "outputs": [],
   "source": [
    "Q17. A marketing company wants to estimate the average number of ads watched by viewers during a TV\n",
    "program. They take a random sample of 50 viewers and find that the sample mean is 4 with a standard\n",
    "deviation of 1.5. Estimate the population mean with a 99% confidence interval."
   ]
  },
  {
   "cell_type": "code",
   "execution_count": null,
   "id": "ff28b64f-6dfd-4b01-8441-798087258c58",
   "metadata": {},
   "outputs": [],
   "source": []
  }
 ],
 "metadata": {
  "kernelspec": {
   "display_name": "Python 3 (ipykernel)",
   "language": "python",
   "name": "python3"
  },
  "language_info": {
   "codemirror_mode": {
    "name": "ipython",
    "version": 3
   },
   "file_extension": ".py",
   "mimetype": "text/x-python",
   "name": "python",
   "nbconvert_exporter": "python",
   "pygments_lexer": "ipython3",
   "version": "3.11.7"
  }
 },
 "nbformat": 4,
 "nbformat_minor": 5
}
