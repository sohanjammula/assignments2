{
 "cells": [
  {
   "cell_type": "code",
   "execution_count": null,
   "id": "162d2519-273b-4dd7-8975-c3dda11d2bc7",
   "metadata": {},
   "outputs": [],
   "source": [
    "Q1. Explain the assumptions required to use ANOVA and provide examples of violations that could impact\n",
    "the validity of the results."
   ]
  },
  {
   "cell_type": "code",
   "execution_count": null,
   "id": "85d50824-1b0f-4fc8-a294-470b7882f0c0",
   "metadata": {},
   "outputs": [],
   "source": [
    "Analysis of Variance (ANOVA) is a statistical method used to compare the means of three or more groups to determine if they are significantly \n",
    "different from each other. To use ANOVA reliably, several assumptions must be met. Here are the key assumptions of ANOVA and examples of violations \n",
    "that could impact the validity of the results:\n",
    "\n",
    "Independence of Observations:\n",
    "Assumption: The observations within each group are independent of each other.\n",
    "Violation Example: If data points within a group are correlated or dependent, such as repeated measures on the same subjects over time, it violates \n",
    "the assumption of independence.\n",
    "Normality:\n",
    "Assumption: The residuals (the differences between the observed values and the group means) are normally distributed.\n",
    "Violation Example: If the residuals are not normally distributed, it can lead to incorrect p-values and confidence intervals. This violation can occur\n",
    "when the sample size is small or when the data is heavily skewed or contains outliers.\n",
    "Homogeneity of Variance (Homoscedasticity):\n",
    "Assumption: The variances of the populations from which the samples are drawn are equal.\n",
    "Violation Example: If the variances are not equal across groups, it can lead to inflated Type I error rates and decreased power. For example, if one\n",
    "group has much larger variances than the others, it can affect the overall F-test.\n",
    "Homogeneity of Regression Slopes (for Two-Way ANOVA with Interaction):\n",
    "Assumption: The relationship between the independent variable and the dependent variable is the same for all levels of the other independent variable.\n",
    "Violation Example: In a two-way ANOVA with interaction, if the slopes of the regression lines for one independent variable differ across levels of the\n",
    "                                  other independent variable, it violates this assumption.\n",
    "Random Sampling:\n",
    "Assumption: The samples are randomly selected from the population of interest.\n",
    "Violation Example: If the samples are not randomly selected, such as convenience sampling or sampling bias, it can lead to biased estimates and affect \n",
    "                                  the generalizability of the results.\n",
    "Equal Group Sizes (for One-Way ANOVA):\n",
    "Assumption: The groups have equal sample sizes.\n",
    "Violation Example: Unequal group sizes can affect the power of the ANOVA test, especially if combined with violations of other assumptions."
   ]
  },
  {
   "cell_type": "code",
   "execution_count": null,
   "id": "0ff9c10f-0e68-4641-b9e2-98133ea587ce",
   "metadata": {},
   "outputs": [],
   "source": [
    "Q2. What are the three types of ANOVA, and in what situations would each be used?"
   ]
  },
  {
   "cell_type": "code",
   "execution_count": null,
   "id": "4b19c15a-65b5-4429-aeaf-09680a7f92c3",
   "metadata": {},
   "outputs": [],
   "source": [
    "One-Way ANOVA is used when there is one categorical independent variable.\n",
    "Two-Way ANOVA is used when there are two categorical independent variables.\n",
    "Three-Way ANOVA is used when there are three categorical independent variables.\n",
    "Each type of ANOVA allows researchers to examine the effects of multiple factors on a dependent variable and to determine whether there are \n",
    "significant differences among the group means. The choice of ANOVA type depends on the specific research design and the number of factors \n",
    "being studied."
   ]
  },
  {
   "cell_type": "code",
   "execution_count": null,
   "id": "c134df74-1ad6-4e2a-be2a-7019846f75e5",
   "metadata": {},
   "outputs": [],
   "source": [
    "Q3. What is the partitioning of variance in ANOVA, and why is it important to understand this concept?"
   ]
  },
  {
   "cell_type": "code",
   "execution_count": null,
   "id": "83e1ee28-49e1-4e1f-ac27-28d581e186ce",
   "metadata": {},
   "outputs": [],
   "source": [
    "The partitioning of variance in ANOVA refers to the process of breaking down the total variance observed in the dependent variable into different \n",
    "components attributed to various sources or factors. Understanding this concept is crucial because it helps researchers identify and quantify the\n",
    "sources of variability in the data, which in turn allows them to assess the significance of these sources and draw meaningful conclusions about the\n",
    "relationships between variables.\n",
    "\n",
    "In ANOVA, the total variance observed in the dependent variable is decomposed into three main components:\n",
    "\n",
    "Between-Group Variance:\n",
    "This component of variance represents the variability in the dependent variable that can be attributed to differences between the group means.\n",
    "It reflects the extent to which the means of the different groups are spread out from each other.\n",
    "Significant between-group variance suggests that the independent variable(s) have an effect on the dependent variable.\n",
    "Within-Group Variance (or Error Variance):\n",
    "This component of variance represents the variability in the dependent variable that is not accounted for by differences between group means.\n",
    "It reflects the variability within each group, including random variability and measurement error.\n",
    "It serves as a baseline level of variability against which the between-group differences are compared.\n",
    "Total Variance:\n",
    "This is the overall variability observed in the dependent variable across all observations.\n",
    "It is the sum of the between-group variance and the within-group variance.\n",
    "Understanding the partitioning of variance allows researchers to assess the relative importance of different factors in explaining the variability\n",
    "    in the dependent variable. By comparing the magnitudes of the between-group and within-group variances, researchers can determine whether the \n",
    "    differences observed between groups are statistically significant or are likely due to chance alone. This helps in evaluating the strength of \n",
    "    the relationships between the independent and dependent variables and drawing valid conclusions about the effects of the independent variables \n",
    "    on the dependent variable. Additionally, partitioning of variance aids in identifying potential sources of error or bias in the data analysis\n",
    "    process,\n",
    "    which can inform improvements in experimental design and data collection procedures. Overall, understanding the partitioning of variance is \n",
    "    essential\n",
    "    for conducting rigorous and interpretable analyses in ANOVA and other statistical methods.\n"
   ]
  },
  {
   "cell_type": "code",
   "execution_count": null,
   "id": "30b0b9d1-998f-4a8d-ac13-b0661bb2a9e9",
   "metadata": {},
   "outputs": [],
   "source": [
    "Q4. How would you calculate the total sum of squares (SST), explained sum of squares (SSE), and residual\n",
    "sum of squares (SSR) in a one-way ANOVA using Python?"
   ]
  },
  {
   "cell_type": "code",
   "execution_count": 1,
   "id": "aaa7892d-1228-4c5d-96cc-59cf5af9e88e",
   "metadata": {},
   "outputs": [
    {
     "name": "stdout",
     "output_type": "stream",
     "text": [
      "Total Sum of Squares (SST): 116.22222222222221\n",
      "Explained Sum of Squares (SSE): 82.88888888888893\n",
      "Residual Sum of Squares (SSR): 33.333333333333336\n"
     ]
    }
   ],
   "source": [
    "import numpy as np\n",
    "\n",
    "# Example data (replace with your actual data)\n",
    "group1 = [10, 12, 14]\n",
    "group2 = [15, 18, 20]\n",
    "group3 = [8, 11, 13]\n",
    "\n",
    "# Combine data from all groups\n",
    "data = np.concatenate([group1, group2, group3])\n",
    "\n",
    "# Calculate overall mean\n",
    "overall_mean = np.mean(data)\n",
    "\n",
    "# Calculate SST\n",
    "SST = np.sum((data - overall_mean)**2)\n",
    "\n",
    "# Calculate group means\n",
    "group_means = [np.mean(group) for group in [group1, group2, group3]]\n",
    "\n",
    "# Calculate SSE\n",
    "SSE = np.sum([len(group) * (mean - overall_mean)**2 for group, mean in zip([group1, group2, group3], group_means)])\n",
    "\n",
    "# Calculate SSR\n",
    "SSR = np.sum([(x - mean)**2 for group, mean in zip([group1, group2, group3], group_means) for x in group])\n",
    "\n",
    "print(\"Total Sum of Squares (SST):\", SST)\n",
    "print(\"Explained Sum of Squares (SSE):\", SSE)\n",
    "print(\"Residual Sum of Squares (SSR):\", SSR)\n"
   ]
  },
  {
   "cell_type": "code",
   "execution_count": null,
   "id": "7d1daf55-ca10-4506-bfcd-22e18ff89d61",
   "metadata": {},
   "outputs": [],
   "source": [
    "Q5. In a two-way ANOVA, how would you calculate the main effects and interaction effects using Python?"
   ]
  },
  {
   "cell_type": "code",
   "execution_count": 2,
   "id": "bc6b7950-56e9-4e78-ac25-567085fb0424",
   "metadata": {},
   "outputs": [
    {
     "name": "stderr",
     "output_type": "stream",
     "text": [
      "C:\\Users\\dell\\anaconda3\\Lib\\site-packages\\statsmodels\\regression\\linear_model.py:1716: RuntimeWarning: divide by zero encountered in scalar divide\n",
      "  return np.dot(wresid, wresid) / self.df_resid\n"
     ]
    },
    {
     "ename": "ValueError",
     "evalue": "array must not contain infs or NaNs",
     "output_type": "error",
     "traceback": [
      "\u001b[1;31m---------------------------------------------------------------------------\u001b[0m",
      "\u001b[1;31mValueError\u001b[0m                                Traceback (most recent call last)",
      "Cell \u001b[1;32mIn[2], line 15\u001b[0m\n\u001b[0;32m     13\u001b[0m \u001b[38;5;66;03m# Perform two-way ANOVA\u001b[39;00m\n\u001b[0;32m     14\u001b[0m model \u001b[38;5;241m=\u001b[39m ols(\u001b[38;5;124m'\u001b[39m\u001b[38;5;124mY ~ C(A) + C(B) + C(A):C(B)\u001b[39m\u001b[38;5;124m'\u001b[39m, data\u001b[38;5;241m=\u001b[39mdata)\u001b[38;5;241m.\u001b[39mfit()\n\u001b[1;32m---> 15\u001b[0m anova_table \u001b[38;5;241m=\u001b[39m sm\u001b[38;5;241m.\u001b[39mstats\u001b[38;5;241m.\u001b[39manova_lm(model, typ\u001b[38;5;241m=\u001b[39m\u001b[38;5;241m2\u001b[39m)\n\u001b[0;32m     17\u001b[0m \u001b[38;5;66;03m# Extract main effects and interaction effect\u001b[39;00m\n\u001b[0;32m     18\u001b[0m main_effect_A \u001b[38;5;241m=\u001b[39m anova_table[\u001b[38;5;124m'\u001b[39m\u001b[38;5;124msum_sq\u001b[39m\u001b[38;5;124m'\u001b[39m][\u001b[38;5;124m'\u001b[39m\u001b[38;5;124mC(A)\u001b[39m\u001b[38;5;124m'\u001b[39m] \u001b[38;5;241m/\u001b[39m anova_table[\u001b[38;5;124m'\u001b[39m\u001b[38;5;124msum_sq\u001b[39m\u001b[38;5;124m'\u001b[39m][\u001b[38;5;124m'\u001b[39m\u001b[38;5;124mResidual\u001b[39m\u001b[38;5;124m'\u001b[39m]\n",
      "File \u001b[1;32m~\\anaconda3\\Lib\\site-packages\\statsmodels\\stats\\anova.py:349\u001b[0m, in \u001b[0;36manova_lm\u001b[1;34m(*args, **kwargs)\u001b[0m\n\u001b[0;32m    347\u001b[0m \u001b[38;5;28;01mif\u001b[39;00m \u001b[38;5;28mlen\u001b[39m(args) \u001b[38;5;241m==\u001b[39m \u001b[38;5;241m1\u001b[39m:\n\u001b[0;32m    348\u001b[0m     model \u001b[38;5;241m=\u001b[39m args[\u001b[38;5;241m0\u001b[39m]\n\u001b[1;32m--> 349\u001b[0m     \u001b[38;5;28;01mreturn\u001b[39;00m anova_single(model, \u001b[38;5;241m*\u001b[39m\u001b[38;5;241m*\u001b[39mkwargs)\n\u001b[0;32m    351\u001b[0m \u001b[38;5;28;01mif\u001b[39;00m typ \u001b[38;5;129;01mnot\u001b[39;00m \u001b[38;5;129;01min\u001b[39;00m [\u001b[38;5;241m1\u001b[39m, \u001b[38;5;124m\"\u001b[39m\u001b[38;5;124mI\u001b[39m\u001b[38;5;124m\"\u001b[39m]:\n\u001b[0;32m    352\u001b[0m     \u001b[38;5;28;01mraise\u001b[39;00m \u001b[38;5;167;01mValueError\u001b[39;00m(\u001b[38;5;124m\"\u001b[39m\u001b[38;5;124mMultiple models only supported for type I. \u001b[39m\u001b[38;5;124m\"\u001b[39m\n\u001b[0;32m    353\u001b[0m                      \u001b[38;5;124m\"\u001b[39m\u001b[38;5;124mGot type \u001b[39m\u001b[38;5;132;01m%s\u001b[39;00m\u001b[38;5;124m\"\u001b[39m \u001b[38;5;241m%\u001b[39m \u001b[38;5;28mstr\u001b[39m(typ))\n",
      "File \u001b[1;32m~\\anaconda3\\Lib\\site-packages\\statsmodels\\stats\\anova.py:80\u001b[0m, in \u001b[0;36manova_single\u001b[1;34m(model, **kwargs)\u001b[0m\n\u001b[0;32m     77\u001b[0m     \u001b[38;5;28;01mreturn\u001b[39;00m anova1_lm_single(model, endog, exog, nobs, design_info, table,\n\u001b[0;32m     78\u001b[0m                             n_rows, test, pr_test, robust)\n\u001b[0;32m     79\u001b[0m \u001b[38;5;28;01melif\u001b[39;00m typ \u001b[38;5;129;01min\u001b[39;00m [\u001b[38;5;241m2\u001b[39m, \u001b[38;5;124m\"\u001b[39m\u001b[38;5;124mII\u001b[39m\u001b[38;5;124m\"\u001b[39m]:\n\u001b[1;32m---> 80\u001b[0m     \u001b[38;5;28;01mreturn\u001b[39;00m anova2_lm_single(model, design_info, n_rows, test, pr_test,\n\u001b[0;32m     81\u001b[0m                             robust)\n\u001b[0;32m     82\u001b[0m \u001b[38;5;28;01melif\u001b[39;00m typ \u001b[38;5;129;01min\u001b[39;00m [\u001b[38;5;241m3\u001b[39m, \u001b[38;5;124m\"\u001b[39m\u001b[38;5;124mIII\u001b[39m\u001b[38;5;124m\"\u001b[39m]:\n\u001b[0;32m     83\u001b[0m     \u001b[38;5;28;01mreturn\u001b[39;00m anova3_lm_single(model, design_info, n_rows, test, pr_test,\n\u001b[0;32m     84\u001b[0m                             robust)\n",
      "File \u001b[1;32m~\\anaconda3\\Lib\\site-packages\\statsmodels\\stats\\anova.py:203\u001b[0m, in \u001b[0;36manova2_lm_single\u001b[1;34m(model, design_info, n_rows, test, pr_test, robust)\u001b[0m\n\u001b[0;32m    201\u001b[0m LVL \u001b[38;5;241m=\u001b[39m np\u001b[38;5;241m.\u001b[39mdot(np\u001b[38;5;241m.\u001b[39mdot(L1,robust_cov),L2\u001b[38;5;241m.\u001b[39mT)\n\u001b[0;32m    202\u001b[0m \u001b[38;5;28;01mfrom\u001b[39;00m \u001b[38;5;21;01mscipy\u001b[39;00m \u001b[38;5;28;01mimport\u001b[39;00m linalg\n\u001b[1;32m--> 203\u001b[0m orth_compl,_ \u001b[38;5;241m=\u001b[39m linalg\u001b[38;5;241m.\u001b[39mqr(LVL)\n\u001b[0;32m    204\u001b[0m r \u001b[38;5;241m=\u001b[39m L1\u001b[38;5;241m.\u001b[39mshape[\u001b[38;5;241m0\u001b[39m] \u001b[38;5;241m-\u001b[39m L2\u001b[38;5;241m.\u001b[39mshape[\u001b[38;5;241m0\u001b[39m]\n\u001b[0;32m    205\u001b[0m \u001b[38;5;66;03m# L1|2\u001b[39;00m\n\u001b[0;32m    206\u001b[0m \u001b[38;5;66;03m# use the non-unique orthogonal completion since L12 is rank r\u001b[39;00m\n",
      "File \u001b[1;32m~\\anaconda3\\Lib\\site-packages\\scipy\\linalg\\_decomp_qr.py:128\u001b[0m, in \u001b[0;36mqr\u001b[1;34m(a, overwrite_a, lwork, mode, pivoting, check_finite)\u001b[0m\n\u001b[0;32m    124\u001b[0m     \u001b[38;5;28;01mraise\u001b[39;00m \u001b[38;5;167;01mValueError\u001b[39;00m(\u001b[38;5;124m\"\u001b[39m\u001b[38;5;124mMode argument should be one of [\u001b[39m\u001b[38;5;124m'\u001b[39m\u001b[38;5;124mfull\u001b[39m\u001b[38;5;124m'\u001b[39m\u001b[38;5;124m, \u001b[39m\u001b[38;5;124m'\u001b[39m\u001b[38;5;124mr\u001b[39m\u001b[38;5;124m'\u001b[39m\u001b[38;5;124m,\u001b[39m\u001b[38;5;124m\"\u001b[39m\n\u001b[0;32m    125\u001b[0m                      \u001b[38;5;124m\"\u001b[39m\u001b[38;5;124m'\u001b[39m\u001b[38;5;124meconomic\u001b[39m\u001b[38;5;124m'\u001b[39m\u001b[38;5;124m, \u001b[39m\u001b[38;5;124m'\u001b[39m\u001b[38;5;124mraw\u001b[39m\u001b[38;5;124m'\u001b[39m\u001b[38;5;124m]\u001b[39m\u001b[38;5;124m\"\u001b[39m)\n\u001b[0;32m    127\u001b[0m \u001b[38;5;28;01mif\u001b[39;00m check_finite:\n\u001b[1;32m--> 128\u001b[0m     a1 \u001b[38;5;241m=\u001b[39m numpy\u001b[38;5;241m.\u001b[39masarray_chkfinite(a)\n\u001b[0;32m    129\u001b[0m \u001b[38;5;28;01melse\u001b[39;00m:\n\u001b[0;32m    130\u001b[0m     a1 \u001b[38;5;241m=\u001b[39m numpy\u001b[38;5;241m.\u001b[39masarray(a)\n",
      "File \u001b[1;32m~\\anaconda3\\Lib\\site-packages\\numpy\\lib\\function_base.py:630\u001b[0m, in \u001b[0;36masarray_chkfinite\u001b[1;34m(a, dtype, order)\u001b[0m\n\u001b[0;32m    628\u001b[0m a \u001b[38;5;241m=\u001b[39m asarray(a, dtype\u001b[38;5;241m=\u001b[39mdtype, order\u001b[38;5;241m=\u001b[39morder)\n\u001b[0;32m    629\u001b[0m \u001b[38;5;28;01mif\u001b[39;00m a\u001b[38;5;241m.\u001b[39mdtype\u001b[38;5;241m.\u001b[39mchar \u001b[38;5;129;01min\u001b[39;00m typecodes[\u001b[38;5;124m'\u001b[39m\u001b[38;5;124mAllFloat\u001b[39m\u001b[38;5;124m'\u001b[39m] \u001b[38;5;129;01mand\u001b[39;00m \u001b[38;5;129;01mnot\u001b[39;00m np\u001b[38;5;241m.\u001b[39misfinite(a)\u001b[38;5;241m.\u001b[39mall():\n\u001b[1;32m--> 630\u001b[0m     \u001b[38;5;28;01mraise\u001b[39;00m \u001b[38;5;167;01mValueError\u001b[39;00m(\n\u001b[0;32m    631\u001b[0m         \u001b[38;5;124m\"\u001b[39m\u001b[38;5;124marray must not contain infs or NaNs\u001b[39m\u001b[38;5;124m\"\u001b[39m)\n\u001b[0;32m    632\u001b[0m \u001b[38;5;28;01mreturn\u001b[39;00m a\n",
      "\u001b[1;31mValueError\u001b[0m: array must not contain infs or NaNs"
     ]
    }
   ],
   "source": [
    "import numpy as np\n",
    "import pandas as pd\n",
    "import statsmodels.api as sm\n",
    "from statsmodels.formula.api import ols\n",
    "\n",
    "# Example data (replace with your actual data)\n",
    "data = pd.DataFrame({\n",
    "    'A': ['A1', 'A1', 'A1', 'A2', 'A2', 'A2', 'A3', 'A3', 'A3'],\n",
    "    'B': ['B1', 'B2', 'B3', 'B1', 'B2', 'B3', 'B1', 'B2', 'B3'],\n",
    "    'Y': [10, 12, 14, 15, 18, 20, 8, 11, 13]\n",
    "})\n",
    "\n",
    "# Perform two-way ANOVA\n",
    "model = ols('Y ~ C(A) + C(B) + C(A):C(B)', data=data).fit()\n",
    "anova_table = sm.stats.anova_lm(model, typ=2)\n",
    "\n",
    "# Extract main effects and interaction effect\n",
    "main_effect_A = anova_table['sum_sq']['C(A)'] / anova_table['sum_sq']['Residual']\n",
    "main_effect_B = anova_table['sum_sq']['C(B)'] / anova_table['sum_sq']['Residual']\n",
    "interaction_effect = anova_table['sum_sq']['C(A):C(B)'] / anova_table['sum_sq']['Residual']\n",
    "\n",
    "print(\"Main Effect of A:\", main_effect_A)\n",
    "print(\"Main Effect of B:\", main_effect_B)\n",
    "print(\"Interaction Effect:\", interaction_effect)\n"
   ]
  },
  {
   "cell_type": "code",
   "execution_count": null,
   "id": "d1a4a630-c078-4b4c-99b1-fbf4ab9a592c",
   "metadata": {},
   "outputs": [],
   "source": [
    "Q6. Suppose you conducted a one-way ANOVA and obtained an F-statistic of 5.23 and a p-value of 0.02.\n",
    "What can you conclude about the differences between the groups, and how would you interpret these\n",
    "results?"
   ]
  },
  {
   "cell_type": "code",
   "execution_count": null,
   "id": "7ae3e043-645c-45dd-8251-fa6c6b9851f9",
   "metadata": {},
   "outputs": [],
   "source": [
    "\n",
    "In a one-way ANOVA, the F-statistic is used to test whether the means of three or more groups are significantly different from each other. \n",
    "The p-value associated with the F-statistic indicates the probability of observing such an extreme F-value (or more extreme) under the null hypothesis \n",
    "of no difference between group means.\n",
    "\n",
    "In this case, you obtained an F-statistic of 5.23 and a p-value of 0.02. Here's how to interpret these results:\n",
    "\n",
    "Significance of the F-statistic:\n",
    "The F-statistic of 5.23 indicates that there is some evidence of differences between the group means.\n",
    "Significance of the p-value:\n",
    "The p-value of 0.02 is less than the significance level (often chosen as 0.05).\n",
    "Since the p-value is less than the significance level, we reject the null hypothesis.\n",
    "Therefore, we conclude that there are statistically significant differences between the group means.\n",
    "Interpretation:\n",
    "With a p-value of 0.02, we have evidence to suggest that the differences observed between the group means are unlikely to be due to random chance \n",
    "alone.\n",
    "This suggests that at least one of the groups has a mean that is significantly different from the others.\n",
    "However, the ANOVA itself does not tell us which specific group(s) differ from each other; additional post-hoc tests (e.g., Tukey's HSD, Bonferroni,\n",
    "etc.) may be conducted to determine pairwise differences between groups.\n",
    "In summary, based on the obtained F-statistic and p-value, we conclude that there are statistically significant differences between the group means,\n",
    "and further investigation may be warranted to determine the nature of these differences.\n"
   ]
  },
  {
   "cell_type": "code",
   "execution_count": null,
   "id": "9468e1d8-020c-469e-8b4f-a23d7fae6bc5",
   "metadata": {},
   "outputs": [],
   "source": [
    "Q7. In a repeated measures ANOVA, how would you handle missing data, and what are the potential\n",
    "consequences of using different methods to handle missing data?"
   ]
  },
  {
   "cell_type": "code",
   "execution_count": null,
   "id": "1b9955c6-378f-4e3a-b1bc-d39714e63a7f",
   "metadata": {},
   "outputs": [],
   "source": [
    "Handling missing data in repeated measures ANOVA is important to ensure the validity and reliability of the analysis. There are several methods \n",
    "to handle missing data in repeated measures ANOVA, each with its own potential consequences:\n",
    "\n",
    "Complete Case Analysis (Listwise Deletion):\n",
    "This approach involves excluding any cases with missing data on any variable involved in the analysis.\n",
    "Pros: Simple to implement.\n",
    "Cons: Reduces sample size and statistical power, potentially leading to biased results if missingness is not completely random \n",
    "(i.e., if missing data are related to the outcome or predictors).\n",
    "Pairwise Deletion:\n",
    "This approach uses all available data for each pairwise comparison, excluding cases with missing data only for the specific comparison being made.\n",
    "Pros: Retains more data compared to complete case analysis.\n",
    "Cons: May lead to biased estimates if missingness is related to the outcome or predictors. Produces inconsistent estimates of covariance parameters,\n",
    "        potentially leading to inaccurate hypothesis testing.\n",
    "Mean Imputation:\n",
    "This approach replaces missing values with the mean of the observed values for the variable.\n",
    "Pros: Preserves sample size and statistical power. Simple to implement.\n",
    "Cons: Can lead to biased estimates and underestimated standard errors, especially if the missing data mechanism is not completely at random. \n",
    "        Can distort correlations and produce misleading results.\n",
    "Multiple Imputation:\n",
    "This approach involves generating multiple plausible imputed datasets, each with missing values replaced by estimates based on the observed data and\n",
    "random variation.\n",
    "Pros: Provides unbiased estimates and valid standard errors if the imputation model is correctly specified. Accounts for uncertainty due to missing \n",
    "    data.\n",
    "Cons: More complex to implement than other methods. Requires assumptions about the missing data mechanism and may be sensitive to model\n",
    "        misspecification.\n",
    "Model-Based Methods:\n",
    "This approach involves modeling the missing data mechanism and estimating parameters using maximum likelihood estimation or Bayesian methods.\n",
    "Pros: Provides valid estimates and standard errors under the specified model assumptions. Allows for flexibility in modeling the missing data\n",
    "    mechanism.\n",
    "Cons: Requires specifying a model for the missing data mechanism, which may be challenging and may introduce additional uncertainty if misspecified.\n",
    "The choice of method for handling missing data in repeated measures ANOVA should be based on considerations such as the amount and pattern of \n",
    "          missingness, the assumptions underlying the analysis, and the goals of the research study. It is important to conduct sensitivity analyses \n",
    "    to assess the robustness of the results to different missing data handling methods. Additionally, researchers should clearly document the methods\n",
    "        used for handling missing data and justify their choice based on the specific characteristics of the dataset and research question.\n",
    "\n"
   ]
  },
  {
   "cell_type": "code",
   "execution_count": null,
   "id": "3932419c-da70-4428-ae1c-3277d546b273",
   "metadata": {},
   "outputs": [],
   "source": [
    "Q8. What are some common post-hoc tests used after ANOVA, and when would you use each one? Provide\n",
    "an example of a situation where a post-hoc test might be necessary."
   ]
  },
  {
   "cell_type": "code",
   "execution_count": null,
   "id": "d3046ee6-3956-4520-bb4f-a54f5a499b43",
   "metadata": {},
   "outputs": [],
   "source": [
    "\n",
    "Post-hoc tests are used in analysis of variance (ANOVA) to determine which specific group means differ from each other after finding a significant \n",
    "omnibus F-test result. Some common post-hoc tests include:\n",
    "\n",
    "Tukey's Honestly Significant Difference (HSD):\n",
    "Tukey's HSD test compares all possible pairs of group means and provides confidence intervals for the difference between each pair.\n",
    "It is used when there are three or more groups and the sample sizes are equal or approximately equal.\n",
    "Bonferroni Correction:\n",
    "The Bonferroni correction adjusts the significance level for multiple comparisons by dividing the desired significance level (e.g., 0.05) by the\n",
    "number of comparisons.\n",
    "It is often used when conducting multiple pairwise comparisons and is more conservative than other post-hoc tests.\n",
    "Duncan's New Multiple Range Test:\n",
    "Duncan's test compares all possible pairs of group means and arranges them into homogeneous subsets based on significance levels.\n",
    "It is used when comparing all groups against each other and can be less conservative than Tukey's HSD when sample sizes are unequal.\n",
    "Scheffé's Test:\n",
    "Scheffé's test provides simultaneous confidence intervals for all possible pairwise differences between group means.\n",
    "It is more conservative than other post-hoc tests and is suitable for situations where the number of groups is small or unequal sample sizes.\n",
    "Fisher's Least Significant Difference (LSD):\n",
    "Fisher's LSD test compares all possible pairs of group means and uses the standard error of the differences to determine significance.\n",
    "It is less conservative than other post-hoc tests and is suitable for situations with equal sample sizes and homogeneous variances.\n",
    "Example Situation:\n",
    "Suppose a researcher conducts a study to compare the effectiveness of four different treatments (T1, T2, T3, T4) on pain relief. \n",
    "After performing a one-way ANOVA, the researcher obtains a significant F-statistic indicating that there are differences between\n",
    "the treatment groups.\n",
    "\n",
    "In this situation, the researcher would use a post-hoc test to determine which specific treatment groups differ from each other. For example, \n",
    "they might use Tukey's HSD test to compare all possible pairs of treatment means and identify significant differences between treatments. \n",
    "This would help the researcher to understand which treatments are more effective than others and make appropriate recommendations for \n",
    "clinical practice."
   ]
  },
  {
   "cell_type": "code",
   "execution_count": null,
   "id": "bb9e4347-eacf-4909-af65-c500bfa6f71e",
   "metadata": {},
   "outputs": [],
   "source": [
    "Q9. A researcher wants to compare the mean weight loss of three diets: A, B, and C. They collect data from\n",
    "50 participants who were randomly assigned to one of the diets. Conduct a one-way ANOVA using Python\n",
    "to determine if there are any significant differences between the mean weight loss of the three diets.\n",
    "Report the F-statistic and p-value, and interpret the results."
   ]
  },
  {
   "cell_type": "code",
   "execution_count": 3,
   "id": "1657f539-3f87-4f85-8977-806dc1663a3a",
   "metadata": {},
   "outputs": [
    {
     "name": "stdout",
     "output_type": "stream",
     "text": [
      "F-statistic: 0.3731488837145597\n",
      "p-value: 0.6892174730227125\n",
      "The p-value is greater than or equal to 0.05, so we fail to reject the null hypothesis.\n",
      "There is no significant evidence to suggest that there are differences between the mean weight loss of the three diets.\n"
     ]
    }
   ],
   "source": [
    "import numpy as np\n",
    "from scipy.stats import f_oneway\n",
    "\n",
    "# Example data (replace with your actual data)\n",
    "diet_A = [2, 3, 4, 5, 6, 7, 8, 9, 10, 11, 12, 13, 14, 15, 16, 17, 18, 19, 20, 21, 22, 23, 24, 25, 26, 27, 28, 29, 30, 31, 32, 33, 34, 35, 36, 37, 38, 39, 40, 41, 42, 43, 44, 45, 46, 47, 48, 49, 50]\n",
    "diet_B = [3, 4, 5, 6, 7, 8, 9, 10, 11, 12, 13, 14, 15, 16, 17, 18, 19, 20, 21, 22, 23, 24, 25, 26, 27, 28, 29, 30, 31, 32, 33, 34, 35, 36, 37, 38, 39, 40, 41, 42, 43, 44, 45, 46, 47, 48, 49, 50, 51, 52]\n",
    "diet_C = [4, 5, 6, 7, 8, 9, 10, 11, 12, 13, 14, 15, 16, 17, 18, 19, 20, 21, 22, 23, 24, 25, 26, 27, 28, 29, 30, 31, 32, 33, 34, 35, 36, 37, 38, 39, 40, 41, 42, 43, 44, 45, 46, 47, 48, 49, 50, 51, 52, 53]\n",
    "\n",
    "# Perform one-way ANOVA\n",
    "F_statistic, p_value = f_oneway(diet_A, diet_B, diet_C)\n",
    "\n",
    "# Print results\n",
    "print(\"F-statistic:\", F_statistic)\n",
    "print(\"p-value:\", p_value)\n",
    "\n",
    "# Interpret the results\n",
    "if p_value < 0.05:\n",
    "    print(\"The p-value is less than 0.05, so we reject the null hypothesis.\")\n",
    "    print(\"There is significant evidence to suggest that there are differences between the mean weight loss of the three diets.\")\n",
    "else:\n",
    "    print(\"The p-value is greater than or equal to 0.05, so we fail to reject the null hypothesis.\")\n",
    "    print(\"There is no significant evidence to suggest that there are differences between the mean weight loss of the three diets.\")\n"
   ]
  },
  {
   "cell_type": "code",
   "execution_count": null,
   "id": "f89372d0-12f0-4372-b965-47ea40f7f89a",
   "metadata": {},
   "outputs": [],
   "source": [
    "Q10. A company wants to know if there are any significant differences in the average time it takes to\n",
    "complete a task using three different software programs: Program A, Program B, and Program C. They\n",
    "randomly assign 30 employees to one of the programs and record the time it takes each employee to\n",
    "complete the task. Conduct a two-way ANOVA using Python to determine if there are any main effects or\n",
    "interaction effects between the software programs and employee experience level (novice vs.\n",
    "experienced). Report the F-statistics and p-values, and interpret the results."
   ]
  },
  {
   "cell_type": "code",
   "execution_count": 4,
   "id": "cf03cc20-db85-4ee6-acdb-140270eb8a90",
   "metadata": {},
   "outputs": [
    {
     "name": "stdout",
     "output_type": "stream",
     "text": [
      "                              sum_sq    df         F    PR(>F)\n",
      "C(Experience)               4.397995   1.0  0.976664  0.325862\n",
      "C(Program)                 29.446179   2.0  3.269560  0.042915\n",
      "C(Experience):C(Program)    7.962674   2.0  0.884137  0.416879\n",
      "Residual                  378.258657  84.0       NaN       NaN\n"
     ]
    }
   ],
   "source": [
    "import numpy as np\n",
    "import pandas as pd\n",
    "import statsmodels.api as sm\n",
    "from statsmodels.formula.api import ols\n",
    "\n",
    "# Example data (replace with your actual data)\n",
    "np.random.seed(0)\n",
    "\n",
    "# Generate data for employee experience level (novice vs. experienced)\n",
    "experience = np.random.choice(['novice', 'experienced'], size=90)\n",
    "\n",
    "# Generate data for software programs (Program A, Program B, Program C)\n",
    "programs = np.random.choice(['A', 'B', 'C'], size=90)\n",
    "\n",
    "# Generate random task completion time data\n",
    "task_completion_time = np.random.normal(loc=10, scale=2, size=90)\n",
    "\n",
    "# Create DataFrame\n",
    "data = pd.DataFrame({'Experience': experience, 'Program': programs, 'Time': task_completion_time})\n",
    "\n",
    "# Perform two-way ANOVA\n",
    "model = ols('Time ~ C(Experience) + C(Program) + C(Experience):C(Program)', data=data).fit()\n",
    "anova_table = sm.stats.anova_lm(model, typ=2)\n",
    "\n",
    "# Print results\n",
    "print(anova_table)\n"
   ]
  },
  {
   "cell_type": "code",
   "execution_count": null,
   "id": "6af974b1-0c44-4feb-a826-bdadc6db4289",
   "metadata": {},
   "outputs": [],
   "source": [
    "Q11. An educational researcher is interested in whether a new teaching method improves student test\n",
    "scores. They randomly assign 100 students to either the control group (traditional teaching method) or the\n",
    "experimental group (new teaching method) and administer a test at the end of the semester. Conduct a\n",
    "two-sample t-test using Python to determine if there are any significant differences in test scores\n",
    "between the two groups. If the results are significant, follow up with a post-hoc test to determine which\n",
    "group(s) differ significantly from each other."
   ]
  },
  {
   "cell_type": "code",
   "execution_count": 5,
   "id": "92fb3e6a-0c1b-41df-b28c-5366236cc46f",
   "metadata": {},
   "outputs": [
    {
     "name": "stdout",
     "output_type": "stream",
     "text": [
      "Two-Sample t-test:\n",
      "t-statistic: -3.597192759749614\n",
      "p-value: 0.0004062796020362504\n",
      "The difference in test scores between the two groups is statistically significant.\n",
      "Performing post-hoc test...\n",
      "   Multiple Comparison of Means - Tukey HSD, FWER=0.05   \n",
      "=========================================================\n",
      " group1    group2    meandiff p-adj  lower  upper  reject\n",
      "---------------------------------------------------------\n",
      "Control Experimental    5.222 0.0004 2.3593 8.0848   True\n",
      "---------------------------------------------------------\n"
     ]
    }
   ],
   "source": [
    "import numpy as np\n",
    "from scipy.stats import ttest_ind\n",
    "from statsmodels.stats.multicomp import pairwise_tukeyhsd\n",
    "\n",
    "# Example data (replace with your actual data)\n",
    "np.random.seed(0)\n",
    "\n",
    "# Generate test scores for control group (traditional teaching method)\n",
    "control_group_scores = np.random.normal(loc=70, scale=10, size=100)\n",
    "\n",
    "# Generate test scores for experimental group (new teaching method)\n",
    "experimental_group_scores = np.random.normal(loc=75, scale=10, size=100)\n",
    "\n",
    "# Perform two-sample t-test\n",
    "t_statistic, p_value = ttest_ind(control_group_scores, experimental_group_scores)\n",
    "\n",
    "# Print results\n",
    "print(\"Two-Sample t-test:\")\n",
    "print(\"t-statistic:\", t_statistic)\n",
    "print(\"p-value:\", p_value)\n",
    "\n",
    "# Check if results are significant\n",
    "if p_value < 0.05:\n",
    "    print(\"The difference in test scores between the two groups is statistically significant.\")\n",
    "    print(\"Performing post-hoc test...\")\n",
    "    # Perform post-hoc test (e.g., Tukey's HSD)\n",
    "    all_scores = np.concatenate([control_group_scores, experimental_group_scores])\n",
    "    groups = ['Control'] * len(control_group_scores) + ['Experimental'] * len(experimental_group_scores)\n",
    "    tukey_results = pairwise_tukeyhsd(all_scores, groups)\n",
    "    print(tukey_results)\n",
    "else:\n",
    "    print(\"There is no significant difference in test scores between the two groups.\")\n"
   ]
  },
  {
   "cell_type": "code",
   "execution_count": null,
   "id": "8ca0c8fb-1fb1-4c58-9532-e682a3e9a620",
   "metadata": {},
   "outputs": [],
   "source": [
    "Q12. A researcher wants to know if there are any significant differences in the average daily sales of three\n",
    "retail stores: Store A, Store B, and Store C. They randomly select 30 days and record the sales for each store\n",
    "on those days. Conduct a repeated measures ANOVA using Python to determine if there are any\n",
    "\n",
    "significant differences in sales between the three stores. If the results are significant, follow up with a post-\n",
    "hoc test to determine which store(s) differ significantly from each other."
   ]
  },
  {
   "cell_type": "code",
   "execution_count": 6,
   "id": "f507e253-13ed-4aaf-b572-8a4ee73016ab",
   "metadata": {},
   "outputs": [
    {
     "name": "stdout",
     "output_type": "stream",
     "text": [
      "One-way ANOVA:\n",
      "F-statistic: 17.295761534833975\n",
      "p-value: 4.740170938397587e-07\n",
      "The differences in average daily sales between the three stores are statistically significant.\n",
      "Performing post-hoc test...\n",
      "  Multiple Comparison of Means - Tukey HSD, FWER=0.05   \n",
      "========================================================\n",
      " group1  group2 meandiff p-adj   lower    upper   reject\n",
      "--------------------------------------------------------\n",
      "Store A Store B  26.7622 0.5536 -34.5773  88.1016  False\n",
      "Store A Store C 142.3423    0.0  81.0028 203.6817   True\n",
      "Store B Store C 115.5801 0.0001  54.2406 176.9195   True\n",
      "--------------------------------------------------------\n"
     ]
    }
   ],
   "source": [
    "import numpy as np\n",
    "from scipy.stats import f_oneway\n",
    "from statsmodels.stats.multicomp import pairwise_tukeyhsd\n",
    "\n",
    "# Example data (replace with your actual data)\n",
    "np.random.seed(0)\n",
    "\n",
    "# Generate sales data for Store A, Store B, and Store C\n",
    "sales_store_A = np.random.normal(loc=1000, scale=100, size=30)\n",
    "sales_store_B = np.random.normal(loc=1100, scale=100, size=30)\n",
    "sales_store_C = np.random.normal(loc=1200, scale=100, size=30)\n",
    "\n",
    "# Perform one-way ANOVA\n",
    "F_statistic, p_value = f_oneway(sales_store_A, sales_store_B, sales_store_C)\n",
    "\n",
    "# Print results\n",
    "print(\"One-way ANOVA:\")\n",
    "print(\"F-statistic:\", F_statistic)\n",
    "print(\"p-value:\", p_value)\n",
    "\n",
    "# Check if results are significant\n",
    "if p_value < 0.05:\n",
    "    print(\"The differences in average daily sales between the three stores are statistically significant.\")\n",
    "    print(\"Performing post-hoc test...\")\n",
    "    # Perform post-hoc test (e.g., Tukey's HSD)\n",
    "    all_sales = np.concatenate([sales_store_A, sales_store_B, sales_store_C])\n",
    "    groups = ['Store A'] * 30 + ['Store B'] * 30 + ['Store C'] * 30\n",
    "    tukey_results = pairwise_tukeyhsd(all_sales, groups)\n",
    "    print(tukey_results)\n",
    "else:\n",
    "    print(\"There is no significant difference in average daily sales between the three stores.\")\n"
   ]
  },
  {
   "cell_type": "code",
   "execution_count": null,
   "id": "7747ed2a-92a4-49c9-9188-970ea1f1189f",
   "metadata": {},
   "outputs": [],
   "source": []
  }
 ],
 "metadata": {
  "kernelspec": {
   "display_name": "Python 3 (ipykernel)",
   "language": "python",
   "name": "python3"
  },
  "language_info": {
   "codemirror_mode": {
    "name": "ipython",
    "version": 3
   },
   "file_extension": ".py",
   "mimetype": "text/x-python",
   "name": "python",
   "nbconvert_exporter": "python",
   "pygments_lexer": "ipython3",
   "version": "3.11.7"
  }
 },
 "nbformat": 4,
 "nbformat_minor": 5
}
