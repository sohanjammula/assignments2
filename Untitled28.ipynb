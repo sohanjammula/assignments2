{
 "cells": [
  {
   "cell_type": "code",
   "execution_count": null,
   "id": "91239669",
   "metadata": {},
   "outputs": [],
   "source": [
    "Q1. Pearson correlation coefficient is a measure of the linear relationship between two variables. Suppose\n",
    "you have collected data on the amount of time students spend studying for an exam and their final exam\n",
    "scores. Calculate the Pearson correlation coefficient between these two variables and interpret the result."
   ]
  },
  {
   "cell_type": "code",
   "execution_count": null,
   "id": "1c8f2d3e",
   "metadata": {},
   "outputs": [],
   "source": [
    "ChatGPT\n",
    "To calculate the Pearson correlation coefficient between the amount of time students spend studying for an exam and their final \n",
    "exam scores, you can use the following steps:\n",
    "\n",
    "Collect data: Gather data on the amount of time each student spends studying for the exam and their corresponding final exam\n",
    "    scores.\n",
    "Calculate the mean of each variable: Compute the mean of the study time and the mean of the exam scores.\n",
    "Calculate the covariance: Compute the covariance between the study time and the exam scores.\n",
    "Calculate the standard deviation of each variable: Compute the standard deviation of the study time and the standard deviation\n",
    "    of the exam scores.\n",
    "Calculate the Pearson correlation coefficient: Divide the covariance by the product of the standard deviations of the two\n",
    "    variables.\n",
    "    \n",
    "    "
   ]
  },
  {
   "cell_type": "code",
   "execution_count": null,
   "id": "d4147da8",
   "metadata": {},
   "outputs": [],
   "source": []
  },
  {
   "cell_type": "code",
   "execution_count": null,
   "id": "55e42d0c",
   "metadata": {},
   "outputs": [],
   "source": [
    "To calculate Spearman's rank correlation coefficient between the amount of sleep individuals get each night and their overall\n",
    "job satisfaction level, you can follow these steps:\n",
    "\n",
    "Collect data: Gather data on the amount of sleep each individual gets each night and their corresponding overall job \n",
    "    satisfaction level (on a scale of 1 to 10).\n",
    "Rank the data: Rank the data for each variable separately. Assign ranks based on the order of the values, with the smallest\n",
    "    value receiving a rank of 1, the next smallest receiving a rank of 2, and so on.\n",
    "Calculate the difference in ranks for each pair of observations: For each pair of observations, calculate the difference in \n",
    "    ranks between the amount of sleep and the job satisfaction level.\n",
    "Square the differences: Square each of the differences calculated in the previous step.\n",
    "Calculate the Spearman's rank correlation coefficient: Use the formula to calculate Spearman's rank correlation coefficient, \n",
    "which is the Pearson correlation coefficient of the ranked data.\n",
    "Here's the formula for calculating Spearman's rank correlation coefficient (ρ):\n",
    "\n",
    "𝜌\n",
    "=\n",
    "1\n",
    "−\n",
    "6\n",
    "×\n",
    "∑\n",
    "𝑑\n",
    "2\n",
    "𝑛\n",
    "×\n",
    "(\n",
    "𝑛\n",
    "2\n",
    "−\n",
    "1\n",
    ")\n",
    "ρ=1− \n",
    "n×(n \n",
    "2\n",
    " −1)\n",
    "6×∑d \n",
    "2\n",
    " \n",
    "​\n",
    " \n",
    "\n",
    "Where:\n",
    "\n",
    "𝑑\n",
    "d is the difference in ranks for each pair of observations.\n",
    "𝑛\n",
    "n is the number of pairs of observations."
   ]
  },
  {
   "cell_type": "code",
   "execution_count": null,
   "id": "1db2b39b",
   "metadata": {},
   "outputs": [],
   "source": [
    "Q3. Suppose you are conducting a study to examine the relationship between the number of hours of\n",
    "exercise per week and body mass index (BMI) in a sample of adults. You collected data on both variables\n",
    "for 50 participants. Calculate the Pearson correlation coefficient and the Spearman's rank correlation\n",
    "between these two variables and compare the results."
   ]
  },
  {
   "cell_type": "markdown",
   "id": "acabe8f7",
   "metadata": {},
   "source": [
    "# Calculating Pearson and Spearman Correlation Coefficients\n",
    "\n",
    "## Problem Statement\n",
    "Suppose we are conducting a study to examine the relationship between the number of hours of exercise per week and body mass\n",
    "index (BMI) in a sample of adults. We collected data on both variables for 50 participants.\n",
    "\n",
    "## Solution\n",
    "1. **Collect Data**: Gather data on the number of hours of exercise per week and the corresponding body mass index (BMI) for \n",
    "    each of the 50 participants.\n",
    "\n",
    "2. **Calculate Pearson Correlation Coefficient**:\n",
    "   - Calculate the mean of the number of hours of exercise per week (X̄) and the mean of the body mass index (BMI) (Ȳ).\n",
    "   - Calculate the covariance between the number of hours of exercise per week and the body mass index (BMI) (cov(X, Y)).\n",
    "   - Calculate the standard deviation of the number of hours of exercise per week (σ_X) and the standard deviation of the body \n",
    "mass index (BMI) (σ_Y).\n",
    "   - Use the formula to calculate the Pearson correlation coefficient (ρ):\n",
    "     ρ = cov(X, Y) / (σ_X * σ_Y)\n",
    "\n",
    "3. **Calculate Spearman's Rank Correlation Coefficient**:\n",
    "   - Rank the data for each variable separately.\n",
    "   - Calculate the difference in ranks for each pair of observations.\n",
    "   - Square the differences.\n",
    "   - Use the formula to calculate Spearman's rank correlation coefficient (ρ):\n",
    "     ρ = 1 - (6 * Σd^2) / (n * (n^2 - 1))\n",
    "\n",
    "4. **Interpret the Results**:\n",
    "   - Compare the Pearson correlation coefficient and Spearman's rank correlation coefficient.\n",
    "   - Pearson correlation coefficient measures the strength and direction of the linear relationship between two variables.\n",
    "   - Spearman's rank correlation coefficient measures the strength and direction of the monotonic relationship between two \n",
    "variables.\n"
   ]
  },
  {
   "cell_type": "code",
   "execution_count": null,
   "id": "9feee94f",
   "metadata": {},
   "outputs": [],
   "source": [
    "Q4. A researcher is interested in examining the relationship between the number of hours individuals\n",
    "spend watching television per day and their level of physical activity. The researcher collected data on\n",
    "both variables from a sample of 50 participants. Calculate the Pearson correlation coefficient between\n",
    "these two variables."
   ]
  },
  {
   "cell_type": "code",
   "execution_count": 1,
   "id": "11081dda",
   "metadata": {},
   "outputs": [
    {
     "ename": "TypeError",
     "evalue": "unsupported operand type(s) for +: 'int' and 'ellipsis'",
     "output_type": "error",
     "traceback": [
      "\u001b[1;31m---------------------------------------------------------------------------\u001b[0m",
      "\u001b[1;31mTypeError\u001b[0m                                 Traceback (most recent call last)",
      "Cell \u001b[1;32mIn[1], line 8\u001b[0m\n\u001b[0;32m      5\u001b[0m physical_activity \u001b[38;5;241m=\u001b[39m [\u001b[38;5;241m2\u001b[39m, \u001b[38;5;241m3\u001b[39m, \u001b[38;5;241m1\u001b[39m, \u001b[38;5;241m1\u001b[39m, \u001b[38;5;241m4\u001b[39m, \u001b[38;5;241m.\u001b[39m\u001b[38;5;241m.\u001b[39m\u001b[38;5;241m.\u001b[39m]  \u001b[38;5;66;03m# List of levels of physical activity\u001b[39;00m\n\u001b[0;32m      7\u001b[0m \u001b[38;5;66;03m# Calculate mean\u001b[39;00m\n\u001b[1;32m----> 8\u001b[0m mean_hours_tv \u001b[38;5;241m=\u001b[39m np\u001b[38;5;241m.\u001b[39mmean(hours_tv)\n\u001b[0;32m      9\u001b[0m mean_physical_activity \u001b[38;5;241m=\u001b[39m np\u001b[38;5;241m.\u001b[39mmean(physical_activity)\n\u001b[0;32m     11\u001b[0m \u001b[38;5;66;03m# Calculate covariance\u001b[39;00m\n",
      "File \u001b[1;32m~\\anaconda3\\Lib\\site-packages\\numpy\\core\\fromnumeric.py:3504\u001b[0m, in \u001b[0;36mmean\u001b[1;34m(a, axis, dtype, out, keepdims, where)\u001b[0m\n\u001b[0;32m   3501\u001b[0m     \u001b[38;5;28;01melse\u001b[39;00m:\n\u001b[0;32m   3502\u001b[0m         \u001b[38;5;28;01mreturn\u001b[39;00m mean(axis\u001b[38;5;241m=\u001b[39maxis, dtype\u001b[38;5;241m=\u001b[39mdtype, out\u001b[38;5;241m=\u001b[39mout, \u001b[38;5;241m*\u001b[39m\u001b[38;5;241m*\u001b[39mkwargs)\n\u001b[1;32m-> 3504\u001b[0m \u001b[38;5;28;01mreturn\u001b[39;00m _methods\u001b[38;5;241m.\u001b[39m_mean(a, axis\u001b[38;5;241m=\u001b[39maxis, dtype\u001b[38;5;241m=\u001b[39mdtype,\n\u001b[0;32m   3505\u001b[0m                       out\u001b[38;5;241m=\u001b[39mout, \u001b[38;5;241m*\u001b[39m\u001b[38;5;241m*\u001b[39mkwargs)\n",
      "File \u001b[1;32m~\\anaconda3\\Lib\\site-packages\\numpy\\core\\_methods.py:118\u001b[0m, in \u001b[0;36m_mean\u001b[1;34m(a, axis, dtype, out, keepdims, where)\u001b[0m\n\u001b[0;32m    115\u001b[0m         dtype \u001b[38;5;241m=\u001b[39m mu\u001b[38;5;241m.\u001b[39mdtype(\u001b[38;5;124m'\u001b[39m\u001b[38;5;124mf4\u001b[39m\u001b[38;5;124m'\u001b[39m)\n\u001b[0;32m    116\u001b[0m         is_float16_result \u001b[38;5;241m=\u001b[39m \u001b[38;5;28;01mTrue\u001b[39;00m\n\u001b[1;32m--> 118\u001b[0m ret \u001b[38;5;241m=\u001b[39m umr_sum(arr, axis, dtype, out, keepdims, where\u001b[38;5;241m=\u001b[39mwhere)\n\u001b[0;32m    119\u001b[0m \u001b[38;5;28;01mif\u001b[39;00m \u001b[38;5;28misinstance\u001b[39m(ret, mu\u001b[38;5;241m.\u001b[39mndarray):\n\u001b[0;32m    120\u001b[0m     \u001b[38;5;28;01mwith\u001b[39;00m _no_nep50_warning():\n",
      "\u001b[1;31mTypeError\u001b[0m: unsupported operand type(s) for +: 'int' and 'ellipsis'"
     ]
    }
   ],
   "source": [
    "import numpy as np\n",
    "\n",
    "# Collect data (replace with your actual data)\n",
    "hours_tv = [3, 2, 4, 5, 1, ...]  # List of hours spent watching TV per day\n",
    "physical_activity = [2, 3, 1, 1, 4, ...]  # List of levels of physical activity\n",
    "\n",
    "# Calculate mean\n",
    "mean_hours_tv = np.mean(hours_tv)\n",
    "mean_physical_activity = np.mean(physical_activity)\n",
    "\n",
    "# Calculate covariance\n",
    "covariance = np.cov(hours_tv, physical_activity)[0][1]\n",
    "\n",
    "# Calculate standard deviation\n",
    "std_hours_tv = np.std(hours_tv)\n",
    "std_physical_activity = np.std(physical_activity)\n",
    "\n",
    "# Calculate Pearson correlation coefficient\n",
    "pearson_correlation = covariance / (std_hours_tv * std_physical_activity)\n",
    "\n",
    "print(\"Pearson correlation coefficient:\", pearson_correlation)\n"
   ]
  },
  {
   "cell_type": "code",
   "execution_count": null,
   "id": "1d4cc862",
   "metadata": {},
   "outputs": [],
   "source": [
    "Q6. A company is interested in examining the relationship between the number of sales calls made per day\n",
    "and the number of sales made per week. The company collected data on both variables from a sample of\n",
    "30 sales representatives. Calculate the Pearson correlation coefficient between these two variables."
   ]
  },
  {
   "cell_type": "code",
   "execution_count": 2,
   "id": "d6fb9d19",
   "metadata": {},
   "outputs": [
    {
     "ename": "TypeError",
     "evalue": "unsupported operand type(s) for +: 'int' and 'ellipsis'",
     "output_type": "error",
     "traceback": [
      "\u001b[1;31m---------------------------------------------------------------------------\u001b[0m",
      "\u001b[1;31mTypeError\u001b[0m                                 Traceback (most recent call last)",
      "Cell \u001b[1;32mIn[2], line 8\u001b[0m\n\u001b[0;32m      5\u001b[0m sales_per_week \u001b[38;5;241m=\u001b[39m [\u001b[38;5;241m5\u001b[39m, \u001b[38;5;241m4\u001b[39m, \u001b[38;5;241m6\u001b[39m, \u001b[38;5;241m7\u001b[39m, \u001b[38;5;241m.\u001b[39m\u001b[38;5;241m.\u001b[39m\u001b[38;5;241m.\u001b[39m]  \u001b[38;5;66;03m# List of number of sales made per week\u001b[39;00m\n\u001b[0;32m      7\u001b[0m \u001b[38;5;66;03m# Calculate mean\u001b[39;00m\n\u001b[1;32m----> 8\u001b[0m mean_sales_calls_per_day \u001b[38;5;241m=\u001b[39m np\u001b[38;5;241m.\u001b[39mmean(sales_calls_per_day)\n\u001b[0;32m      9\u001b[0m mean_sales_per_week \u001b[38;5;241m=\u001b[39m np\u001b[38;5;241m.\u001b[39mmean(sales_per_week)\n\u001b[0;32m     11\u001b[0m \u001b[38;5;66;03m# Calculate covariance\u001b[39;00m\n",
      "File \u001b[1;32m~\\anaconda3\\Lib\\site-packages\\numpy\\core\\fromnumeric.py:3504\u001b[0m, in \u001b[0;36mmean\u001b[1;34m(a, axis, dtype, out, keepdims, where)\u001b[0m\n\u001b[0;32m   3501\u001b[0m     \u001b[38;5;28;01melse\u001b[39;00m:\n\u001b[0;32m   3502\u001b[0m         \u001b[38;5;28;01mreturn\u001b[39;00m mean(axis\u001b[38;5;241m=\u001b[39maxis, dtype\u001b[38;5;241m=\u001b[39mdtype, out\u001b[38;5;241m=\u001b[39mout, \u001b[38;5;241m*\u001b[39m\u001b[38;5;241m*\u001b[39mkwargs)\n\u001b[1;32m-> 3504\u001b[0m \u001b[38;5;28;01mreturn\u001b[39;00m _methods\u001b[38;5;241m.\u001b[39m_mean(a, axis\u001b[38;5;241m=\u001b[39maxis, dtype\u001b[38;5;241m=\u001b[39mdtype,\n\u001b[0;32m   3505\u001b[0m                       out\u001b[38;5;241m=\u001b[39mout, \u001b[38;5;241m*\u001b[39m\u001b[38;5;241m*\u001b[39mkwargs)\n",
      "File \u001b[1;32m~\\anaconda3\\Lib\\site-packages\\numpy\\core\\_methods.py:118\u001b[0m, in \u001b[0;36m_mean\u001b[1;34m(a, axis, dtype, out, keepdims, where)\u001b[0m\n\u001b[0;32m    115\u001b[0m         dtype \u001b[38;5;241m=\u001b[39m mu\u001b[38;5;241m.\u001b[39mdtype(\u001b[38;5;124m'\u001b[39m\u001b[38;5;124mf4\u001b[39m\u001b[38;5;124m'\u001b[39m)\n\u001b[0;32m    116\u001b[0m         is_float16_result \u001b[38;5;241m=\u001b[39m \u001b[38;5;28;01mTrue\u001b[39;00m\n\u001b[1;32m--> 118\u001b[0m ret \u001b[38;5;241m=\u001b[39m umr_sum(arr, axis, dtype, out, keepdims, where\u001b[38;5;241m=\u001b[39mwhere)\n\u001b[0;32m    119\u001b[0m \u001b[38;5;28;01mif\u001b[39;00m \u001b[38;5;28misinstance\u001b[39m(ret, mu\u001b[38;5;241m.\u001b[39mndarray):\n\u001b[0;32m    120\u001b[0m     \u001b[38;5;28;01mwith\u001b[39;00m _no_nep50_warning():\n",
      "\u001b[1;31mTypeError\u001b[0m: unsupported operand type(s) for +: 'int' and 'ellipsis'"
     ]
    }
   ],
   "source": [
    "import numpy as np\n",
    "\n",
    "# Collect data (replace with your actual data)\n",
    "sales_calls_per_day = [20, 15, 25, 30, ...]  # List of number of sales calls made per day\n",
    "sales_per_week = [5, 4, 6, 7, ...]  # List of number of sales made per week\n",
    "\n",
    "# Calculate mean\n",
    "mean_sales_calls_per_day = np.mean(sales_calls_per_day)\n",
    "mean_sales_per_week = np.mean(sales_per_week)\n",
    "\n",
    "# Calculate covariance\n",
    "covariance = np.cov(sales_calls_per_day, sales_per_week)[0][1]\n",
    "\n",
    "# Calculate standard deviation\n",
    "std_sales_calls_per_day = np.std(sales_calls_per_day)\n",
    "std_sales_per_week = np.std(sales_per_week)\n",
    "\n",
    "# Calculate Pearson correlation coefficient\n",
    "pearson_correlation = covariance / (std_sales_calls_per_day * std_sales_per_week)\n",
    "\n",
    "print(\"Pearson correlation coefficient:\", pearson_correlation)\n"
   ]
  },
  {
   "cell_type": "code",
   "execution_count": null,
   "id": "7c8d2a8f",
   "metadata": {},
   "outputs": [],
   "source": []
  }
 ],
 "metadata": {
  "kernelspec": {
   "display_name": "Python 3 (ipykernel)",
   "language": "python",
   "name": "python3"
  },
  "language_info": {
   "codemirror_mode": {
    "name": "ipython",
    "version": 3
   },
   "file_extension": ".py",
   "mimetype": "text/x-python",
   "name": "python",
   "nbconvert_exporter": "python",
   "pygments_lexer": "ipython3",
   "version": "3.11.7"
  }
 },
 "nbformat": 4,
 "nbformat_minor": 5
}
